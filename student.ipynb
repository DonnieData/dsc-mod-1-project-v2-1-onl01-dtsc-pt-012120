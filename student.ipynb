{
 "cells": [
  {
   "cell_type": "markdown",
   "metadata": {},
   "source": [
    "## Movie Exploratory Data Anaylsis \n",
    "<i>Donnell Jackson</i>"
   ]
  },
  {
   "cell_type": "markdown",
   "metadata": {},
   "source": [
    "<div>\n",
    "    <div style=\"border:0.2px; border-style:solid; border-color:#1C6EA4; padding: 1em;font-size:15px;border-width:medium;display:inline-block; margin-left:130px;\">\n",
    "     <h1> Questions</h1> \n",
    "           <ul>\n",
    "        <li>Question 1: what movie groups are predominatly produced? \n",
    "        <li>Question 2: what movie groups have the highest popularity?\n",
    "        <li>Question 3: What kind of movies produce the most revenue? \n",
    "</ul>\n",
    "   </div>\n",
    "    <div style=\"border:0.2px; border-style:solid; border-color:#1C6EA4; padding: 1em;font-size:15px;border-width:medium;display:inline-block; margin:10px;\">\n",
    "     <h1>Essential Metrics</h1>\n",
    "     <ul>\n",
    "   <li> Ratings \n",
    "   <li> Revenue \n",
    "   <li> Genre\n",
    "</ul>  \n",
    "   </div>\n",
    "\n",
    "   <div style=\"border:0.2px; border-style:solid; border-color:#1C6EA4; padding: 1em;font-size:15px;border-width:medium;display:inline-block; margin:0px;\">\n",
    "      <h1>Data Analysis Steps</h1>\n",
    "          <ul>\n",
    "        <li>Collection & Wrangling  \n",
    "        <li>Cleaning & Transforming\n",
    "        <li>Visualization & Analysis\n",
    "       </ul>\n",
    "       \n",
    "   </div>\n",
    "</div>"
   ]
  },
  {
   "cell_type": "markdown",
   "metadata": {},
   "source": [
    "<p style=\"border:0.2px; border-style:solid; border-color:#1C6EA4; padding: 0.5em;font-size:15px; text-align:center; border-width:medium;\">\n",
    "    <b>Collection & Wrangling</b>\n",
    "</p>"
   ]
  },
  {
   "cell_type": "code",
   "execution_count": null,
   "metadata": {},
   "outputs": [],
   "source": [
    "#background-color:#FAEBD7;"
   ]
  },
  {
   "cell_type": "code",
   "execution_count": 2210,
   "metadata": {},
   "outputs": [],
   "source": [
    "# importing necessary libraries \n",
    "import time \n",
    "import pandas as pd\n",
    "import numpy as np\n",
    "import seaborn as sns\n",
    "import matplotlib.pyplot as plt\n",
    "%matplotlib inline "
   ]
  },
  {
   "cell_type": "code",
   "execution_count": 356,
   "metadata": {},
   "outputs": [],
   "source": [
    "title_baiscs = pd.read_csv(\"imdb.title.basics.csv.gz\")\n",
    "ratings = pd.read_csv(\"imdb.title.ratings.csv.gz\")\n",
    "budget = pd.read_csv(\"tn.movie_budgets.csv.gz\")"
   ]
  },
  {
   "cell_type": "code",
   "execution_count": 357,
   "metadata": {},
   "outputs": [
    {
     "data": {
      "text/html": [
       "<div>\n",
       "<style scoped>\n",
       "    .dataframe tbody tr th:only-of-type {\n",
       "        vertical-align: middle;\n",
       "    }\n",
       "\n",
       "    .dataframe tbody tr th {\n",
       "        vertical-align: top;\n",
       "    }\n",
       "\n",
       "    .dataframe thead th {\n",
       "        text-align: right;\n",
       "    }\n",
       "</style>\n",
       "<table border=\"1\" class=\"dataframe\">\n",
       "  <thead>\n",
       "    <tr style=\"text-align: right;\">\n",
       "      <th></th>\n",
       "      <th>tconst</th>\n",
       "      <th>primary_title</th>\n",
       "      <th>original_title</th>\n",
       "      <th>start_year</th>\n",
       "      <th>runtime_minutes</th>\n",
       "      <th>genres</th>\n",
       "    </tr>\n",
       "  </thead>\n",
       "  <tbody>\n",
       "    <tr>\n",
       "      <th>0</th>\n",
       "      <td>tt0063540</td>\n",
       "      <td>Sunghursh</td>\n",
       "      <td>Sunghursh</td>\n",
       "      <td>2013</td>\n",
       "      <td>175.0</td>\n",
       "      <td>Action,Crime,Drama</td>\n",
       "    </tr>\n",
       "    <tr>\n",
       "      <th>1</th>\n",
       "      <td>tt0066787</td>\n",
       "      <td>One Day Before the Rainy Season</td>\n",
       "      <td>Ashad Ka Ek Din</td>\n",
       "      <td>2019</td>\n",
       "      <td>114.0</td>\n",
       "      <td>Biography,Drama</td>\n",
       "    </tr>\n",
       "    <tr>\n",
       "      <th>2</th>\n",
       "      <td>tt0069049</td>\n",
       "      <td>The Other Side of the Wind</td>\n",
       "      <td>The Other Side of the Wind</td>\n",
       "      <td>2018</td>\n",
       "      <td>122.0</td>\n",
       "      <td>Drama</td>\n",
       "    </tr>\n",
       "    <tr>\n",
       "      <th>3</th>\n",
       "      <td>tt0069204</td>\n",
       "      <td>Sabse Bada Sukh</td>\n",
       "      <td>Sabse Bada Sukh</td>\n",
       "      <td>2018</td>\n",
       "      <td>NaN</td>\n",
       "      <td>Comedy,Drama</td>\n",
       "    </tr>\n",
       "    <tr>\n",
       "      <th>4</th>\n",
       "      <td>tt0100275</td>\n",
       "      <td>The Wandering Soap Opera</td>\n",
       "      <td>La Telenovela Errante</td>\n",
       "      <td>2017</td>\n",
       "      <td>80.0</td>\n",
       "      <td>Comedy,Drama,Fantasy</td>\n",
       "    </tr>\n",
       "  </tbody>\n",
       "</table>\n",
       "</div>"
      ],
      "text/plain": [
       "      tconst                    primary_title              original_title  \\\n",
       "0  tt0063540                        Sunghursh                   Sunghursh   \n",
       "1  tt0066787  One Day Before the Rainy Season             Ashad Ka Ek Din   \n",
       "2  tt0069049       The Other Side of the Wind  The Other Side of the Wind   \n",
       "3  tt0069204                  Sabse Bada Sukh             Sabse Bada Sukh   \n",
       "4  tt0100275         The Wandering Soap Opera       La Telenovela Errante   \n",
       "\n",
       "   start_year  runtime_minutes                genres  \n",
       "0        2013            175.0    Action,Crime,Drama  \n",
       "1        2019            114.0       Biography,Drama  \n",
       "2        2018            122.0                 Drama  \n",
       "3        2018              NaN          Comedy,Drama  \n",
       "4        2017             80.0  Comedy,Drama,Fantasy  "
      ]
     },
     "execution_count": 357,
     "metadata": {},
     "output_type": "execute_result"
    }
   ],
   "source": [
    "title_baiscs.head()"
   ]
  },
  {
   "cell_type": "markdown",
   "metadata": {},
   "source": [
    "<center><p style=\"border:0.2px; border-style:solid; border-color:#A9A9A9; padding:0.5em;font-size:14px;border-width:medium; display:inline-block;\">  \n",
    "Duplicate Check\n",
    " </p></center>"
   ]
  },
  {
   "cell_type": "code",
   "execution_count": 1197,
   "metadata": {},
   "outputs": [],
   "source": [
    "#checking for duplicates\n",
    "title_baiscs.drop(index =title_baiscs[title_baiscs.duplicated(subset=\"primary_title\")].index, inplace=True)"
   ]
  },
  {
   "cell_type": "code",
   "execution_count": 359,
   "metadata": {},
   "outputs": [
    {
     "data": {
      "text/plain": [
       "136071"
      ]
     },
     "execution_count": 359,
     "metadata": {},
     "output_type": "execute_result"
    }
   ],
   "source": [
    "len(title_baiscs)"
   ]
  },
  {
   "cell_type": "code",
   "execution_count": 360,
   "metadata": {},
   "outputs": [
    {
     "data": {
      "text/html": [
       "<div>\n",
       "<style scoped>\n",
       "    .dataframe tbody tr th:only-of-type {\n",
       "        vertical-align: middle;\n",
       "    }\n",
       "\n",
       "    .dataframe tbody tr th {\n",
       "        vertical-align: top;\n",
       "    }\n",
       "\n",
       "    .dataframe thead th {\n",
       "        text-align: right;\n",
       "    }\n",
       "</style>\n",
       "<table border=\"1\" class=\"dataframe\">\n",
       "  <thead>\n",
       "    <tr style=\"text-align: right;\">\n",
       "      <th></th>\n",
       "      <th>tconst</th>\n",
       "      <th>primary_title</th>\n",
       "      <th>original_title</th>\n",
       "      <th>start_year</th>\n",
       "      <th>runtime_minutes</th>\n",
       "      <th>genres</th>\n",
       "    </tr>\n",
       "  </thead>\n",
       "  <tbody>\n",
       "    <tr>\n",
       "      <th>0</th>\n",
       "      <td>tt0063540</td>\n",
       "      <td>Sunghursh</td>\n",
       "      <td>Sunghursh</td>\n",
       "      <td>2013</td>\n",
       "      <td>175.0</td>\n",
       "      <td>Action,Crime,Drama</td>\n",
       "    </tr>\n",
       "  </tbody>\n",
       "</table>\n",
       "</div>"
      ],
      "text/plain": [
       "      tconst primary_title original_title  start_year  runtime_minutes  \\\n",
       "0  tt0063540     Sunghursh      Sunghursh        2013            175.0   \n",
       "\n",
       "               genres  \n",
       "0  Action,Crime,Drama  "
      ]
     },
     "execution_count": 360,
     "metadata": {},
     "output_type": "execute_result"
    }
   ],
   "source": [
    "title_baiscs.head(1)"
   ]
  },
  {
   "cell_type": "code",
   "execution_count": 361,
   "metadata": {},
   "outputs": [
    {
     "data": {
      "text/html": [
       "<div>\n",
       "<style scoped>\n",
       "    .dataframe tbody tr th:only-of-type {\n",
       "        vertical-align: middle;\n",
       "    }\n",
       "\n",
       "    .dataframe tbody tr th {\n",
       "        vertical-align: top;\n",
       "    }\n",
       "\n",
       "    .dataframe thead th {\n",
       "        text-align: right;\n",
       "    }\n",
       "</style>\n",
       "<table border=\"1\" class=\"dataframe\">\n",
       "  <thead>\n",
       "    <tr style=\"text-align: right;\">\n",
       "      <th></th>\n",
       "      <th>tconst</th>\n",
       "      <th>averagerating</th>\n",
       "      <th>numvotes</th>\n",
       "    </tr>\n",
       "  </thead>\n",
       "  <tbody>\n",
       "    <tr>\n",
       "      <th>0</th>\n",
       "      <td>tt10356526</td>\n",
       "      <td>8.3</td>\n",
       "      <td>31</td>\n",
       "    </tr>\n",
       "  </tbody>\n",
       "</table>\n",
       "</div>"
      ],
      "text/plain": [
       "       tconst  averagerating  numvotes\n",
       "0  tt10356526            8.3        31"
      ]
     },
     "execution_count": 361,
     "metadata": {},
     "output_type": "execute_result"
    }
   ],
   "source": [
    "ratings.head(1)"
   ]
  },
  {
   "cell_type": "code",
   "execution_count": 362,
   "metadata": {},
   "outputs": [
    {
     "data": {
      "text/html": [
       "<div>\n",
       "<style scoped>\n",
       "    .dataframe tbody tr th:only-of-type {\n",
       "        vertical-align: middle;\n",
       "    }\n",
       "\n",
       "    .dataframe tbody tr th {\n",
       "        vertical-align: top;\n",
       "    }\n",
       "\n",
       "    .dataframe thead th {\n",
       "        text-align: right;\n",
       "    }\n",
       "</style>\n",
       "<table border=\"1\" class=\"dataframe\">\n",
       "  <thead>\n",
       "    <tr style=\"text-align: right;\">\n",
       "      <th></th>\n",
       "      <th>tconst</th>\n",
       "      <th>averagerating</th>\n",
       "      <th>numvotes</th>\n",
       "    </tr>\n",
       "  </thead>\n",
       "  <tbody>\n",
       "  </tbody>\n",
       "</table>\n",
       "</div>"
      ],
      "text/plain": [
       "Empty DataFrame\n",
       "Columns: [tconst, averagerating, numvotes]\n",
       "Index: []"
      ]
     },
     "execution_count": 362,
     "metadata": {},
     "output_type": "execute_result"
    }
   ],
   "source": [
    "ratings[ratings.duplicated(subset=\"tconst\")]"
   ]
  },
  {
   "cell_type": "code",
   "execution_count": 363,
   "metadata": {},
   "outputs": [
    {
     "name": "stdout",
     "output_type": "stream",
     "text": [
      "73856\n",
      "136071\n"
     ]
    }
   ],
   "source": [
    "# get overview of data \n",
    "print(len(ratings))\n",
    "print(len(title_baiscs))"
   ]
  },
  {
   "cell_type": "markdown",
   "metadata": {},
   "source": [
    "<center><p style=\"border:0.2px; border-style:solid; border-color:#A9A9A9; padding:0.5em;font-size:14px;border-width:medium; display:inline-block;\">  \n",
    "Joining Tables\n",
    " </p></center>"
   ]
  },
  {
   "cell_type": "code",
   "execution_count": 364,
   "metadata": {},
   "outputs": [],
   "source": [
    "title_baiscs.set_index(\"tconst\", inplace=True) #setting index for tables to be joined with \n",
    "ratings.set_index(\"tconst\",inplace=True)"
   ]
  },
  {
   "cell_type": "code",
   "execution_count": 365,
   "metadata": {},
   "outputs": [
    {
     "data": {
      "text/plain": [
       "136071"
      ]
     },
     "execution_count": 365,
     "metadata": {},
     "output_type": "execute_result"
    }
   ],
   "source": [
    "m_df = title_baiscs.join(ratings, on=\"tconst\", how=\"left\")\n",
    "len(m_df)"
   ]
  },
  {
   "cell_type": "code",
   "execution_count": 366,
   "metadata": {},
   "outputs": [
    {
     "data": {
      "text/html": [
       "<div>\n",
       "<style scoped>\n",
       "    .dataframe tbody tr th:only-of-type {\n",
       "        vertical-align: middle;\n",
       "    }\n",
       "\n",
       "    .dataframe tbody tr th {\n",
       "        vertical-align: top;\n",
       "    }\n",
       "\n",
       "    .dataframe thead th {\n",
       "        text-align: right;\n",
       "    }\n",
       "</style>\n",
       "<table border=\"1\" class=\"dataframe\">\n",
       "  <thead>\n",
       "    <tr style=\"text-align: right;\">\n",
       "      <th></th>\n",
       "      <th>primary_title</th>\n",
       "      <th>original_title</th>\n",
       "      <th>start_year</th>\n",
       "      <th>runtime_minutes</th>\n",
       "      <th>genres</th>\n",
       "      <th>averagerating</th>\n",
       "      <th>numvotes</th>\n",
       "    </tr>\n",
       "    <tr>\n",
       "      <th>tconst</th>\n",
       "      <th></th>\n",
       "      <th></th>\n",
       "      <th></th>\n",
       "      <th></th>\n",
       "      <th></th>\n",
       "      <th></th>\n",
       "      <th></th>\n",
       "    </tr>\n",
       "  </thead>\n",
       "  <tbody>\n",
       "    <tr>\n",
       "      <th>tt0063540</th>\n",
       "      <td>Sunghursh</td>\n",
       "      <td>Sunghursh</td>\n",
       "      <td>2013</td>\n",
       "      <td>175.0</td>\n",
       "      <td>Action,Crime,Drama</td>\n",
       "      <td>7.0</td>\n",
       "      <td>77.0</td>\n",
       "    </tr>\n",
       "    <tr>\n",
       "      <th>tt0066787</th>\n",
       "      <td>One Day Before the Rainy Season</td>\n",
       "      <td>Ashad Ka Ek Din</td>\n",
       "      <td>2019</td>\n",
       "      <td>114.0</td>\n",
       "      <td>Biography,Drama</td>\n",
       "      <td>7.2</td>\n",
       "      <td>43.0</td>\n",
       "    </tr>\n",
       "    <tr>\n",
       "      <th>tt0069049</th>\n",
       "      <td>The Other Side of the Wind</td>\n",
       "      <td>The Other Side of the Wind</td>\n",
       "      <td>2018</td>\n",
       "      <td>122.0</td>\n",
       "      <td>Drama</td>\n",
       "      <td>6.9</td>\n",
       "      <td>4517.0</td>\n",
       "    </tr>\n",
       "    <tr>\n",
       "      <th>tt0069204</th>\n",
       "      <td>Sabse Bada Sukh</td>\n",
       "      <td>Sabse Bada Sukh</td>\n",
       "      <td>2018</td>\n",
       "      <td>NaN</td>\n",
       "      <td>Comedy,Drama</td>\n",
       "      <td>6.1</td>\n",
       "      <td>13.0</td>\n",
       "    </tr>\n",
       "    <tr>\n",
       "      <th>tt0100275</th>\n",
       "      <td>The Wandering Soap Opera</td>\n",
       "      <td>La Telenovela Errante</td>\n",
       "      <td>2017</td>\n",
       "      <td>80.0</td>\n",
       "      <td>Comedy,Drama,Fantasy</td>\n",
       "      <td>6.5</td>\n",
       "      <td>119.0</td>\n",
       "    </tr>\n",
       "  </tbody>\n",
       "</table>\n",
       "</div>"
      ],
      "text/plain": [
       "                             primary_title              original_title  \\\n",
       "tconst                                                                   \n",
       "tt0063540                        Sunghursh                   Sunghursh   \n",
       "tt0066787  One Day Before the Rainy Season             Ashad Ka Ek Din   \n",
       "tt0069049       The Other Side of the Wind  The Other Side of the Wind   \n",
       "tt0069204                  Sabse Bada Sukh             Sabse Bada Sukh   \n",
       "tt0100275         The Wandering Soap Opera       La Telenovela Errante   \n",
       "\n",
       "           start_year  runtime_minutes                genres  averagerating  \\\n",
       "tconst                                                                        \n",
       "tt0063540        2013            175.0    Action,Crime,Drama            7.0   \n",
       "tt0066787        2019            114.0       Biography,Drama            7.2   \n",
       "tt0069049        2018            122.0                 Drama            6.9   \n",
       "tt0069204        2018              NaN          Comedy,Drama            6.1   \n",
       "tt0100275        2017             80.0  Comedy,Drama,Fantasy            6.5   \n",
       "\n",
       "           numvotes  \n",
       "tconst               \n",
       "tt0063540      77.0  \n",
       "tt0066787      43.0  \n",
       "tt0069049    4517.0  \n",
       "tt0069204      13.0  \n",
       "tt0100275     119.0  "
      ]
     },
     "execution_count": 366,
     "metadata": {},
     "output_type": "execute_result"
    }
   ],
   "source": [
    "m_df.head()# reviewing table join"
   ]
  },
  {
   "cell_type": "code",
   "execution_count": 367,
   "metadata": {},
   "outputs": [],
   "source": [
    "m_df.rename(columns={\"primary_title\":\"title\"}, inplace=True) #renaming column for more intuitve use and matching when joining"
   ]
  },
  {
   "cell_type": "code",
   "execution_count": 368,
   "metadata": {},
   "outputs": [
    {
     "data": {
      "text/html": [
       "<div>\n",
       "<style scoped>\n",
       "    .dataframe tbody tr th:only-of-type {\n",
       "        vertical-align: middle;\n",
       "    }\n",
       "\n",
       "    .dataframe tbody tr th {\n",
       "        vertical-align: top;\n",
       "    }\n",
       "\n",
       "    .dataframe thead th {\n",
       "        text-align: right;\n",
       "    }\n",
       "</style>\n",
       "<table border=\"1\" class=\"dataframe\">\n",
       "  <thead>\n",
       "    <tr style=\"text-align: right;\">\n",
       "      <th></th>\n",
       "      <th>id</th>\n",
       "      <th>release_date</th>\n",
       "      <th>movie</th>\n",
       "      <th>production_budget</th>\n",
       "      <th>domestic_gross</th>\n",
       "      <th>worldwide_gross</th>\n",
       "    </tr>\n",
       "  </thead>\n",
       "  <tbody>\n",
       "    <tr>\n",
       "      <th>0</th>\n",
       "      <td>1</td>\n",
       "      <td>Dec 18, 2009</td>\n",
       "      <td>Avatar</td>\n",
       "      <td>$425,000,000</td>\n",
       "      <td>$760,507,625</td>\n",
       "      <td>$2,776,345,279</td>\n",
       "    </tr>\n",
       "  </tbody>\n",
       "</table>\n",
       "</div>"
      ],
      "text/plain": [
       "   id  release_date   movie production_budget domestic_gross worldwide_gross\n",
       "0   1  Dec 18, 2009  Avatar      $425,000,000   $760,507,625  $2,776,345,279"
      ]
     },
     "execution_count": 368,
     "metadata": {},
     "output_type": "execute_result"
    }
   ],
   "source": [
    "budget.head(1)"
   ]
  },
  {
   "cell_type": "code",
   "execution_count": 369,
   "metadata": {},
   "outputs": [],
   "source": [
    "budget.rename(columns={\"movie\":\"title\"},inplace=True)# renaming column"
   ]
  },
  {
   "cell_type": "code",
   "execution_count": 370,
   "metadata": {},
   "outputs": [],
   "source": [
    "budget.set_index(\"title\", inplace=True)# setting index to join "
   ]
  },
  {
   "cell_type": "code",
   "execution_count": 371,
   "metadata": {},
   "outputs": [
    {
     "data": {
      "text/html": [
       "<div>\n",
       "<style scoped>\n",
       "    .dataframe tbody tr th:only-of-type {\n",
       "        vertical-align: middle;\n",
       "    }\n",
       "\n",
       "    .dataframe tbody tr th {\n",
       "        vertical-align: top;\n",
       "    }\n",
       "\n",
       "    .dataframe thead th {\n",
       "        text-align: right;\n",
       "    }\n",
       "</style>\n",
       "<table border=\"1\" class=\"dataframe\">\n",
       "  <thead>\n",
       "    <tr style=\"text-align: right;\">\n",
       "      <th></th>\n",
       "      <th>id</th>\n",
       "      <th>release_date</th>\n",
       "      <th>production_budget</th>\n",
       "      <th>domestic_gross</th>\n",
       "      <th>worldwide_gross</th>\n",
       "    </tr>\n",
       "    <tr>\n",
       "      <th>title</th>\n",
       "      <th></th>\n",
       "      <th></th>\n",
       "      <th></th>\n",
       "      <th></th>\n",
       "      <th></th>\n",
       "    </tr>\n",
       "  </thead>\n",
       "  <tbody>\n",
       "    <tr>\n",
       "      <th>Avatar</th>\n",
       "      <td>1</td>\n",
       "      <td>Dec 18, 2009</td>\n",
       "      <td>$425,000,000</td>\n",
       "      <td>$760,507,625</td>\n",
       "      <td>$2,776,345,279</td>\n",
       "    </tr>\n",
       "  </tbody>\n",
       "</table>\n",
       "</div>"
      ],
      "text/plain": [
       "        id  release_date production_budget domestic_gross worldwide_gross\n",
       "title                                                                    \n",
       "Avatar   1  Dec 18, 2009      $425,000,000   $760,507,625  $2,776,345,279"
      ]
     },
     "execution_count": 371,
     "metadata": {},
     "output_type": "execute_result"
    }
   ],
   "source": [
    "budget.head(1)# reviewing dataframe "
   ]
  },
  {
   "cell_type": "code",
   "execution_count": 372,
   "metadata": {},
   "outputs": [],
   "source": [
    "m_df.set_index(\"title\", inplace=True)"
   ]
  },
  {
   "cell_type": "code",
   "execution_count": 420,
   "metadata": {},
   "outputs": [
    {
     "data": {
      "text/html": [
       "<div>\n",
       "<style scoped>\n",
       "    .dataframe tbody tr th:only-of-type {\n",
       "        vertical-align: middle;\n",
       "    }\n",
       "\n",
       "    .dataframe tbody tr th {\n",
       "        vertical-align: top;\n",
       "    }\n",
       "\n",
       "    .dataframe thead th {\n",
       "        text-align: right;\n",
       "    }\n",
       "</style>\n",
       "<table border=\"1\" class=\"dataframe\">\n",
       "  <thead>\n",
       "    <tr style=\"text-align: right;\">\n",
       "      <th></th>\n",
       "      <th>original_title</th>\n",
       "      <th>start_year</th>\n",
       "      <th>runtime_minutes</th>\n",
       "      <th>genres</th>\n",
       "      <th>averagerating</th>\n",
       "      <th>numvotes</th>\n",
       "    </tr>\n",
       "    <tr>\n",
       "      <th>title</th>\n",
       "      <th></th>\n",
       "      <th></th>\n",
       "      <th></th>\n",
       "      <th></th>\n",
       "      <th></th>\n",
       "      <th></th>\n",
       "    </tr>\n",
       "  </thead>\n",
       "  <tbody>\n",
       "    <tr>\n",
       "      <th>Sunghursh</th>\n",
       "      <td>Sunghursh</td>\n",
       "      <td>2013</td>\n",
       "      <td>175.0</td>\n",
       "      <td>Action,Crime,Drama</td>\n",
       "      <td>7.0</td>\n",
       "      <td>77.0</td>\n",
       "    </tr>\n",
       "  </tbody>\n",
       "</table>\n",
       "</div>"
      ],
      "text/plain": [
       "          original_title  start_year  runtime_minutes              genres  \\\n",
       "title                                                                       \n",
       "Sunghursh      Sunghursh        2013            175.0  Action,Crime,Drama   \n",
       "\n",
       "           averagerating  numvotes  \n",
       "title                               \n",
       "Sunghursh            7.0      77.0  "
      ]
     },
     "execution_count": 420,
     "metadata": {},
     "output_type": "execute_result"
    }
   ],
   "source": [
    "m_df.head(1)"
   ]
  },
  {
   "cell_type": "code",
   "execution_count": 374,
   "metadata": {},
   "outputs": [],
   "source": [
    "m_df2 = m_df.join(budget, on=\"title\", how=\"left\")#joing budget data frame "
   ]
  },
  {
   "cell_type": "code",
   "execution_count": 421,
   "metadata": {},
   "outputs": [
    {
     "data": {
      "text/html": [
       "<div>\n",
       "<style scoped>\n",
       "    .dataframe tbody tr th:only-of-type {\n",
       "        vertical-align: middle;\n",
       "    }\n",
       "\n",
       "    .dataframe tbody tr th {\n",
       "        vertical-align: top;\n",
       "    }\n",
       "\n",
       "    .dataframe thead th {\n",
       "        text-align: right;\n",
       "    }\n",
       "</style>\n",
       "<table border=\"1\" class=\"dataframe\">\n",
       "  <thead>\n",
       "    <tr style=\"text-align: right;\">\n",
       "      <th></th>\n",
       "      <th>title</th>\n",
       "      <th>original_title</th>\n",
       "      <th>start_year</th>\n",
       "      <th>runtime_minutes</th>\n",
       "      <th>genres</th>\n",
       "      <th>averagerating</th>\n",
       "      <th>numvotes</th>\n",
       "      <th>id</th>\n",
       "      <th>release_date</th>\n",
       "      <th>production_budget</th>\n",
       "      <th>domestic_gross</th>\n",
       "      <th>worldwide_gross</th>\n",
       "    </tr>\n",
       "  </thead>\n",
       "  <tbody>\n",
       "    <tr>\n",
       "      <th>0</th>\n",
       "      <td>Sunghursh</td>\n",
       "      <td>Sunghursh</td>\n",
       "      <td>2013</td>\n",
       "      <td>175.0</td>\n",
       "      <td>Action,Crime,Drama</td>\n",
       "      <td>7.0</td>\n",
       "      <td>77.0</td>\n",
       "      <td>NaN</td>\n",
       "      <td>NaN</td>\n",
       "      <td>NaN</td>\n",
       "      <td>NaN</td>\n",
       "      <td>NaN</td>\n",
       "    </tr>\n",
       "  </tbody>\n",
       "</table>\n",
       "</div>"
      ],
      "text/plain": [
       "       title original_title  start_year  runtime_minutes              genres  \\\n",
       "0  Sunghursh      Sunghursh        2013            175.0  Action,Crime,Drama   \n",
       "\n",
       "   averagerating  numvotes  id release_date production_budget domestic_gross  \\\n",
       "0            7.0      77.0 NaN          NaN               NaN            NaN   \n",
       "\n",
       "  worldwide_gross  \n",
       "0             NaN  "
      ]
     },
     "execution_count": 421,
     "metadata": {},
     "output_type": "execute_result"
    }
   ],
   "source": [
    "m_df2.head(1)"
   ]
  },
  {
   "cell_type": "code",
   "execution_count": 422,
   "metadata": {},
   "outputs": [
    {
     "data": {
      "text/html": [
       "<div>\n",
       "<style scoped>\n",
       "    .dataframe tbody tr th:only-of-type {\n",
       "        vertical-align: middle;\n",
       "    }\n",
       "\n",
       "    .dataframe tbody tr th {\n",
       "        vertical-align: top;\n",
       "    }\n",
       "\n",
       "    .dataframe thead th {\n",
       "        text-align: right;\n",
       "    }\n",
       "</style>\n",
       "<table border=\"1\" class=\"dataframe\">\n",
       "  <thead>\n",
       "    <tr style=\"text-align: right;\">\n",
       "      <th></th>\n",
       "      <th>title</th>\n",
       "      <th>original_title</th>\n",
       "      <th>start_year</th>\n",
       "      <th>runtime_minutes</th>\n",
       "      <th>genres</th>\n",
       "      <th>averagerating</th>\n",
       "      <th>numvotes</th>\n",
       "      <th>id</th>\n",
       "      <th>release_date</th>\n",
       "      <th>production_budget</th>\n",
       "      <th>domestic_gross</th>\n",
       "      <th>worldwide_gross</th>\n",
       "    </tr>\n",
       "  </thead>\n",
       "  <tbody>\n",
       "    <tr>\n",
       "      <th>20</th>\n",
       "      <td>Foodfight!</td>\n",
       "      <td>Foodfight!</td>\n",
       "      <td>2012</td>\n",
       "      <td>91.0</td>\n",
       "      <td>Action,Animation,Comedy</td>\n",
       "      <td>1.9</td>\n",
       "      <td>8248.0</td>\n",
       "      <td>26.0</td>\n",
       "      <td>Dec 31, 2012</td>\n",
       "      <td>$45,000,000</td>\n",
       "      <td>$0</td>\n",
       "      <td>$73,706</td>\n",
       "    </tr>\n",
       "  </tbody>\n",
       "</table>\n",
       "</div>"
      ],
      "text/plain": [
       "         title original_title  start_year  runtime_minutes  \\\n",
       "20  Foodfight!     Foodfight!        2012             91.0   \n",
       "\n",
       "                     genres  averagerating  numvotes    id  release_date  \\\n",
       "20  Action,Animation,Comedy            1.9    8248.0  26.0  Dec 31, 2012   \n",
       "\n",
       "   production_budget domestic_gross worldwide_gross  \n",
       "20       $45,000,000             $0         $73,706  "
      ]
     },
     "execution_count": 422,
     "metadata": {},
     "output_type": "execute_result"
    }
   ],
   "source": [
    "m_df2[m_df2[\"worldwide_gross\"].notna()].head(1)"
   ]
  },
  {
   "cell_type": "code",
   "execution_count": 402,
   "metadata": {},
   "outputs": [],
   "source": [
    "m_df2.reset_index(inplace=True)# resetting index so title column can be used more flexibly and independently "
   ]
  },
  {
   "cell_type": "code",
   "execution_count": 407,
   "metadata": {},
   "outputs": [
    {
     "name": "stdout",
     "output_type": "stream",
     "text": [
      "136071\n"
     ]
    },
    {
     "data": {
      "text/plain": [
       "136071"
      ]
     },
     "execution_count": 407,
     "metadata": {},
     "output_type": "execute_result"
    }
   ],
   "source": [
    "print(len(m_df))\n",
    "len(m_df2) - len(m_df2[m_df2.duplicated(subset=\"title\")])"
   ]
  },
  {
   "cell_type": "code",
   "execution_count": 410,
   "metadata": {},
   "outputs": [],
   "source": [
    "m_df2.drop(m_df2[m_df2.duplicated(subset=\"title\")].index,inplace=True) # removing duplicates "
   ]
  },
  {
   "cell_type": "code",
   "execution_count": 434,
   "metadata": {},
   "outputs": [
    {
     "data": {
      "text/plain": [
       "136071"
      ]
     },
     "execution_count": 434,
     "metadata": {},
     "output_type": "execute_result"
    }
   ],
   "source": [
    "len(m_df)"
   ]
  },
  {
   "cell_type": "markdown",
   "metadata": {},
   "source": [
    "<p style=\"border:0.2px; border-style:solid; border-color:#1C6EA4; padding: 0.5em;font-size:15px; text-align:center;border-width:medium\">\n",
    "    <b>Cleaning & Tranformation</b>\n",
    "</p>"
   ]
  },
  {
   "cell_type": "code",
   "execution_count": 562,
   "metadata": {},
   "outputs": [],
   "source": [
    "# creating function that will help highlight data that can be interpreted as outliers \n",
    "def outliers(data):\n",
    "    sorted(data)\n",
    "    Q1,Q3 = np.percentile(data,[25,75])\n",
    "    IQR = Q3 - Q1\n",
    "    lower_range = Q1 - (1.5 * IQR)\n",
    "    upper_range = Q3 + (1.5 * IQR)\n",
    "    return lower_range,upper_range"
   ]
  },
  {
   "cell_type": "markdown",
   "metadata": {},
   "source": [
    "need to split into 2 frames to get proer description view \n",
    "create cash to number function "
   ]
  },
  {
   "cell_type": "code",
   "execution_count": null,
   "metadata": {},
   "outputs": [],
   "source": []
  },
  {
   "cell_type": "markdown",
   "metadata": {},
   "source": [
    "<center><p style=\"border:0.2px; border-style:solid; border-color:#A9A9A9; padding:0.5em;font-size:14px;border-width:medium; display:inline-block;\">  \n",
    "Currency Columns\n",
    " </p></center>"
   ]
  },
  {
   "cell_type": "code",
   "execution_count": 491,
   "metadata": {},
   "outputs": [
    {
     "name": "stdout",
     "output_type": "stream",
     "text": [
      "2312\n",
      "2312\n",
      "2312\n",
      "float64\n",
      "float64\n",
      "float64\n"
     ]
    }
   ],
   "source": [
    "# budget table column checks\n",
    "print(len(m_df2[m_df2[\"production_budget\"].notna()]))\n",
    "print(len(m_df2[m_df2[\"domestic_gross\"].notna()]))\n",
    "print(len(m_df2[m_df2[\"worldwide_gross\"].notna()]))"
   ]
  },
  {
   "cell_type": "code",
   "execution_count": 485,
   "metadata": {},
   "outputs": [],
   "source": [
    "#transforming currency columns from strings with symbols  to floats with decimals \n",
    "m_df2[\"production_budget\"] = m_df2[\"production_budget\"].str.replace(\"$\",\"\").str.replace(\",\",\"\").astype('float')\n",
    "m_df2[\"domestic_gross\"] = m_df2[\"domestic_gross\"].str.replace(\"$\",\"\").str.replace(\",\",\"\").astype('float')\n",
    "m_df2[\"worldwide_gross\"] = m_df2[\"worldwide_gross\"].str.replace(\"$\",\"\").str.replace(\",\",\"\").astype('float')"
   ]
  },
  {
   "cell_type": "code",
   "execution_count": 492,
   "metadata": {},
   "outputs": [
    {
     "data": {
      "text/html": [
       "<div>\n",
       "<style scoped>\n",
       "    .dataframe tbody tr th:only-of-type {\n",
       "        vertical-align: middle;\n",
       "    }\n",
       "\n",
       "    .dataframe tbody tr th {\n",
       "        vertical-align: top;\n",
       "    }\n",
       "\n",
       "    .dataframe thead th {\n",
       "        text-align: right;\n",
       "    }\n",
       "</style>\n",
       "<table border=\"1\" class=\"dataframe\">\n",
       "  <thead>\n",
       "    <tr style=\"text-align: right;\">\n",
       "      <th></th>\n",
       "      <th>start_year</th>\n",
       "      <th>runtime_minutes</th>\n",
       "      <th>averagerating</th>\n",
       "      <th>numvotes</th>\n",
       "      <th>id</th>\n",
       "      <th>production_budget</th>\n",
       "      <th>domestic_gross</th>\n",
       "      <th>worldwide_gross</th>\n",
       "    </tr>\n",
       "  </thead>\n",
       "  <tbody>\n",
       "    <tr>\n",
       "      <th>count</th>\n",
       "      <td>136071.000000</td>\n",
       "      <td>106598.000000</td>\n",
       "      <td>68827.000000</td>\n",
       "      <td>6.882700e+04</td>\n",
       "      <td>2312.000000</td>\n",
       "      <td>2.312000e+03</td>\n",
       "      <td>2.312000e+03</td>\n",
       "      <td>2.312000e+03</td>\n",
       "    </tr>\n",
       "    <tr>\n",
       "      <th>mean</th>\n",
       "      <td>2014.561413</td>\n",
       "      <td>86.186289</td>\n",
       "      <td>6.339238</td>\n",
       "      <td>3.539508e+03</td>\n",
       "      <td>50.517301</td>\n",
       "      <td>3.631816e+07</td>\n",
       "      <td>4.534870e+07</td>\n",
       "      <td>1.092834e+08</td>\n",
       "    </tr>\n",
       "    <tr>\n",
       "      <th>std</th>\n",
       "      <td>2.732568</td>\n",
       "      <td>172.111139</td>\n",
       "      <td>1.480194</td>\n",
       "      <td>3.079711e+04</td>\n",
       "      <td>28.622140</td>\n",
       "      <td>4.988586e+07</td>\n",
       "      <td>7.676105e+07</td>\n",
       "      <td>2.125256e+08</td>\n",
       "    </tr>\n",
       "    <tr>\n",
       "      <th>min</th>\n",
       "      <td>2010.000000</td>\n",
       "      <td>1.000000</td>\n",
       "      <td>1.000000</td>\n",
       "      <td>5.000000e+00</td>\n",
       "      <td>1.000000</td>\n",
       "      <td>1.400000e+03</td>\n",
       "      <td>0.000000e+00</td>\n",
       "      <td>0.000000e+00</td>\n",
       "    </tr>\n",
       "    <tr>\n",
       "      <th>25%</th>\n",
       "      <td>2012.000000</td>\n",
       "      <td>70.000000</td>\n",
       "      <td>5.500000</td>\n",
       "      <td>1.400000e+01</td>\n",
       "      <td>26.000000</td>\n",
       "      <td>5.000000e+06</td>\n",
       "      <td>6.724825e+05</td>\n",
       "      <td>2.450298e+06</td>\n",
       "    </tr>\n",
       "    <tr>\n",
       "      <th>50%</th>\n",
       "      <td>2015.000000</td>\n",
       "      <td>86.000000</td>\n",
       "      <td>6.500000</td>\n",
       "      <td>4.800000e+01</td>\n",
       "      <td>50.000000</td>\n",
       "      <td>1.800000e+07</td>\n",
       "      <td>1.834239e+07</td>\n",
       "      <td>3.113681e+07</td>\n",
       "    </tr>\n",
       "    <tr>\n",
       "      <th>75%</th>\n",
       "      <td>2017.000000</td>\n",
       "      <td>99.000000</td>\n",
       "      <td>7.400000</td>\n",
       "      <td>2.750000e+02</td>\n",
       "      <td>75.000000</td>\n",
       "      <td>4.500000e+07</td>\n",
       "      <td>5.479033e+07</td>\n",
       "      <td>1.110671e+08</td>\n",
       "    </tr>\n",
       "    <tr>\n",
       "      <th>max</th>\n",
       "      <td>2027.000000</td>\n",
       "      <td>51420.000000</td>\n",
       "      <td>10.000000</td>\n",
       "      <td>1.841066e+06</td>\n",
       "      <td>100.000000</td>\n",
       "      <td>4.250000e+08</td>\n",
       "      <td>7.605076e+08</td>\n",
       "      <td>2.776345e+09</td>\n",
       "    </tr>\n",
       "  </tbody>\n",
       "</table>\n",
       "</div>"
      ],
      "text/plain": [
       "          start_year  runtime_minutes  averagerating      numvotes  \\\n",
       "count  136071.000000    106598.000000   68827.000000  6.882700e+04   \n",
       "mean     2014.561413        86.186289       6.339238  3.539508e+03   \n",
       "std         2.732568       172.111139       1.480194  3.079711e+04   \n",
       "min      2010.000000         1.000000       1.000000  5.000000e+00   \n",
       "25%      2012.000000        70.000000       5.500000  1.400000e+01   \n",
       "50%      2015.000000        86.000000       6.500000  4.800000e+01   \n",
       "75%      2017.000000        99.000000       7.400000  2.750000e+02   \n",
       "max      2027.000000     51420.000000      10.000000  1.841066e+06   \n",
       "\n",
       "                id  production_budget  domestic_gross  worldwide_gross  \n",
       "count  2312.000000       2.312000e+03    2.312000e+03     2.312000e+03  \n",
       "mean     50.517301       3.631816e+07    4.534870e+07     1.092834e+08  \n",
       "std      28.622140       4.988586e+07    7.676105e+07     2.125256e+08  \n",
       "min       1.000000       1.400000e+03    0.000000e+00     0.000000e+00  \n",
       "25%      26.000000       5.000000e+06    6.724825e+05     2.450298e+06  \n",
       "50%      50.000000       1.800000e+07    1.834239e+07     3.113681e+07  \n",
       "75%      75.000000       4.500000e+07    5.479033e+07     1.110671e+08  \n",
       "max     100.000000       4.250000e+08    7.605076e+08     2.776345e+09  "
      ]
     },
     "execution_count": 492,
     "metadata": {},
     "output_type": "execute_result"
    }
   ],
   "source": [
    "m_df2.describe() # getting overview and glance at data metrics which will help highlight areas that need to be addressed "
   ]
  },
  {
   "cell_type": "code",
   "execution_count": 429,
   "metadata": {},
   "outputs": [
    {
     "data": {
      "text/html": [
       "<div>\n",
       "<style scoped>\n",
       "    .dataframe tbody tr th:only-of-type {\n",
       "        vertical-align: middle;\n",
       "    }\n",
       "\n",
       "    .dataframe tbody tr th {\n",
       "        vertical-align: top;\n",
       "    }\n",
       "\n",
       "    .dataframe thead th {\n",
       "        text-align: right;\n",
       "    }\n",
       "</style>\n",
       "<table border=\"1\" class=\"dataframe\">\n",
       "  <thead>\n",
       "    <tr style=\"text-align: right;\">\n",
       "      <th></th>\n",
       "      <th>title</th>\n",
       "      <th>original_title</th>\n",
       "      <th>start_year</th>\n",
       "      <th>runtime_minutes</th>\n",
       "      <th>genres</th>\n",
       "      <th>averagerating</th>\n",
       "      <th>numvotes</th>\n",
       "      <th>id</th>\n",
       "      <th>release_date</th>\n",
       "      <th>production_budget</th>\n",
       "      <th>domestic_gross</th>\n",
       "      <th>worldwide_gross</th>\n",
       "    </tr>\n",
       "  </thead>\n",
       "  <tbody>\n",
       "    <tr>\n",
       "      <th>0</th>\n",
       "      <td>Sunghursh</td>\n",
       "      <td>Sunghursh</td>\n",
       "      <td>2013</td>\n",
       "      <td>175.0</td>\n",
       "      <td>Action,Crime,Drama</td>\n",
       "      <td>7.0</td>\n",
       "      <td>77.0</td>\n",
       "      <td>NaN</td>\n",
       "      <td>NaN</td>\n",
       "      <td>NaN</td>\n",
       "      <td>NaN</td>\n",
       "      <td>NaN</td>\n",
       "    </tr>\n",
       "    <tr>\n",
       "      <th>1</th>\n",
       "      <td>One Day Before the Rainy Season</td>\n",
       "      <td>Ashad Ka Ek Din</td>\n",
       "      <td>2019</td>\n",
       "      <td>114.0</td>\n",
       "      <td>Biography,Drama</td>\n",
       "      <td>7.2</td>\n",
       "      <td>43.0</td>\n",
       "      <td>NaN</td>\n",
       "      <td>NaN</td>\n",
       "      <td>NaN</td>\n",
       "      <td>NaN</td>\n",
       "      <td>NaN</td>\n",
       "    </tr>\n",
       "    <tr>\n",
       "      <th>2</th>\n",
       "      <td>The Other Side of the Wind</td>\n",
       "      <td>The Other Side of the Wind</td>\n",
       "      <td>2018</td>\n",
       "      <td>122.0</td>\n",
       "      <td>Drama</td>\n",
       "      <td>6.9</td>\n",
       "      <td>4517.0</td>\n",
       "      <td>NaN</td>\n",
       "      <td>NaN</td>\n",
       "      <td>NaN</td>\n",
       "      <td>NaN</td>\n",
       "      <td>NaN</td>\n",
       "    </tr>\n",
       "    <tr>\n",
       "      <th>3</th>\n",
       "      <td>Sabse Bada Sukh</td>\n",
       "      <td>Sabse Bada Sukh</td>\n",
       "      <td>2018</td>\n",
       "      <td>NaN</td>\n",
       "      <td>Comedy,Drama</td>\n",
       "      <td>6.1</td>\n",
       "      <td>13.0</td>\n",
       "      <td>NaN</td>\n",
       "      <td>NaN</td>\n",
       "      <td>NaN</td>\n",
       "      <td>NaN</td>\n",
       "      <td>NaN</td>\n",
       "    </tr>\n",
       "    <tr>\n",
       "      <th>4</th>\n",
       "      <td>The Wandering Soap Opera</td>\n",
       "      <td>La Telenovela Errante</td>\n",
       "      <td>2017</td>\n",
       "      <td>80.0</td>\n",
       "      <td>Comedy,Drama,Fantasy</td>\n",
       "      <td>6.5</td>\n",
       "      <td>119.0</td>\n",
       "      <td>NaN</td>\n",
       "      <td>NaN</td>\n",
       "      <td>NaN</td>\n",
       "      <td>NaN</td>\n",
       "      <td>NaN</td>\n",
       "    </tr>\n",
       "  </tbody>\n",
       "</table>\n",
       "</div>"
      ],
      "text/plain": [
       "                             title              original_title  start_year  \\\n",
       "0                        Sunghursh                   Sunghursh        2013   \n",
       "1  One Day Before the Rainy Season             Ashad Ka Ek Din        2019   \n",
       "2       The Other Side of the Wind  The Other Side of the Wind        2018   \n",
       "3                  Sabse Bada Sukh             Sabse Bada Sukh        2018   \n",
       "4         The Wandering Soap Opera       La Telenovela Errante        2017   \n",
       "\n",
       "   runtime_minutes                genres  averagerating  numvotes  id  \\\n",
       "0            175.0    Action,Crime,Drama            7.0      77.0 NaN   \n",
       "1            114.0       Biography,Drama            7.2      43.0 NaN   \n",
       "2            122.0                 Drama            6.9    4517.0 NaN   \n",
       "3              NaN          Comedy,Drama            6.1      13.0 NaN   \n",
       "4             80.0  Comedy,Drama,Fantasy            6.5     119.0 NaN   \n",
       "\n",
       "  release_date production_budget domestic_gross worldwide_gross  \n",
       "0          NaN               NaN            NaN             NaN  \n",
       "1          NaN               NaN            NaN             NaN  \n",
       "2          NaN               NaN            NaN             NaN  \n",
       "3          NaN               NaN            NaN             NaN  \n",
       "4          NaN               NaN            NaN             NaN  "
      ]
     },
     "execution_count": 429,
     "metadata": {},
     "output_type": "execute_result"
    }
   ],
   "source": [
    "m_df2.head()"
   ]
  },
  {
   "cell_type": "markdown",
   "metadata": {},
   "source": [
    "<center><p style=\"border:0.2px; border-style:solid; border-color:#A9A9A9; padding:0.5em;font-size:14px;border-width:medium; display:inline-block;\">  \n",
    "Runtime\n",
    " </p></center>"
   ]
  },
  {
   "cell_type": "code",
   "execution_count": 555,
   "metadata": {},
   "outputs": [],
   "source": [
    "#creatinf a runtime in hours format to gain further insight into movie runtimes\n",
    "m_df2[\"hours\"] = round(m_df2[\"runtime_minutes\"]/60,1)"
   ]
  },
  {
   "cell_type": "code",
   "execution_count": 559,
   "metadata": {},
   "outputs": [
    {
     "data": {
      "text/html": [
       "<div>\n",
       "<style scoped>\n",
       "    .dataframe tbody tr th:only-of-type {\n",
       "        vertical-align: middle;\n",
       "    }\n",
       "\n",
       "    .dataframe tbody tr th {\n",
       "        vertical-align: top;\n",
       "    }\n",
       "\n",
       "    .dataframe thead th {\n",
       "        text-align: right;\n",
       "    }\n",
       "</style>\n",
       "<table border=\"1\" class=\"dataframe\">\n",
       "  <thead>\n",
       "    <tr style=\"text-align: right;\">\n",
       "      <th></th>\n",
       "      <th>runtime_minutes</th>\n",
       "      <th>hours</th>\n",
       "    </tr>\n",
       "  </thead>\n",
       "  <tbody>\n",
       "    <tr>\n",
       "      <th>count</th>\n",
       "      <td>106598.000000</td>\n",
       "      <td>106598.000000</td>\n",
       "    </tr>\n",
       "    <tr>\n",
       "      <th>mean</th>\n",
       "      <td>86.186289</td>\n",
       "      <td>1.437031</td>\n",
       "    </tr>\n",
       "    <tr>\n",
       "      <th>std</th>\n",
       "      <td>172.111139</td>\n",
       "      <td>2.868581</td>\n",
       "    </tr>\n",
       "    <tr>\n",
       "      <th>min</th>\n",
       "      <td>1.000000</td>\n",
       "      <td>0.000000</td>\n",
       "    </tr>\n",
       "    <tr>\n",
       "      <th>25%</th>\n",
       "      <td>70.000000</td>\n",
       "      <td>1.200000</td>\n",
       "    </tr>\n",
       "    <tr>\n",
       "      <th>50%</th>\n",
       "      <td>86.000000</td>\n",
       "      <td>1.400000</td>\n",
       "    </tr>\n",
       "    <tr>\n",
       "      <th>75%</th>\n",
       "      <td>99.000000</td>\n",
       "      <td>1.600000</td>\n",
       "    </tr>\n",
       "    <tr>\n",
       "      <th>max</th>\n",
       "      <td>51420.000000</td>\n",
       "      <td>857.000000</td>\n",
       "    </tr>\n",
       "  </tbody>\n",
       "</table>\n",
       "</div>"
      ],
      "text/plain": [
       "       runtime_minutes          hours\n",
       "count    106598.000000  106598.000000\n",
       "mean         86.186289       1.437031\n",
       "std         172.111139       2.868581\n",
       "min           1.000000       0.000000\n",
       "25%          70.000000       1.200000\n",
       "50%          86.000000       1.400000\n",
       "75%          99.000000       1.600000\n",
       "max       51420.000000     857.000000"
      ]
     },
     "execution_count": 559,
     "metadata": {},
     "output_type": "execute_result"
    }
   ],
   "source": [
    "#reviewing hours format agaisnt original minutes format and how it can be interpreted to gain insight \n",
    "m_df2[[\"runtime_minutes\",\"hours\"]].describe()"
   ]
  },
  {
   "cell_type": "code",
   "execution_count": 570,
   "metadata": {},
   "outputs": [
    {
     "data": {
      "text/plain": [
       "106598"
      ]
     },
     "execution_count": 570,
     "metadata": {},
     "output_type": "execute_result"
    }
   ],
   "source": [
    "len(m_df2[\"hours\"][m_df2[\"hours\"].notna()])"
   ]
  },
  {
   "cell_type": "code",
   "execution_count": 600,
   "metadata": {},
   "outputs": [],
   "source": [
    "m_df2.drop(m_df2[(m_df2[\"runtime_minutes\"]< 45) | (m_df2[\"runtime_minutes\"]>300)].index, inplace=True)"
   ]
  },
  {
   "cell_type": "markdown",
   "metadata": {},
   "source": [
    "<p style=\"border:0.2px; border-style:solid; border-color:#A9A9A9; padding: 0.5em;font-size:14px;border-width:medium; text-align:center;\">  \n",
    "    Movie Runtimes Insight\n",
    " </p>"
   ]
  },
  {
   "cell_type": "code",
   "execution_count": 611,
   "metadata": {},
   "outputs": [],
   "source": [
    "run_norm = m_df2[\"runtime_minutes\"][m_df2[\"runtime_minutes\"].notna()]"
   ]
  },
  {
   "cell_type": "code",
   "execution_count": 617,
   "metadata": {},
   "outputs": [
    {
     "data": {
      "text/plain": [
       "(0.44999999999999996, 2.45)"
      ]
     },
     "execution_count": 617,
     "metadata": {},
     "output_type": "execute_result"
    }
   ],
   "source": [
    "outliers(m_df2[\"hours\"][m_df2[\"hours\"].notna()])"
   ]
  },
  {
   "cell_type": "code",
   "execution_count": 620,
   "metadata": {},
   "outputs": [
    {
     "data": {
      "text/plain": [
       "45.0"
      ]
     },
     "execution_count": 620,
     "metadata": {},
     "output_type": "execute_result"
    }
   ],
   "source": [
    "m_df2.runtime_minutes.min()"
   ]
  },
  {
   "cell_type": "code",
   "execution_count": 893,
   "metadata": {},
   "outputs": [
    {
     "data": {
      "text/plain": [
       "(32.5, 140.5)"
      ]
     },
     "execution_count": 893,
     "metadata": {},
     "output_type": "execute_result"
    }
   ],
   "source": [
    "outliers(run_norm)"
   ]
  },
  {
   "cell_type": "code",
   "execution_count": 768,
   "metadata": {},
   "outputs": [
    {
     "data": {
      "text/plain": [
       "<matplotlib.axes._subplots.AxesSubplot at 0x2337ae9c828>"
      ]
     },
     "execution_count": 768,
     "metadata": {},
     "output_type": "execute_result"
    },
    {
     "data": {
      "image/png": "[encoded data removed]",
      "text/plain": [
       "<Figure size 1440x288 with 1 Axes>"
      ]
     },
     "metadata": {},
     "output_type": "display_data"
    }
   ],
   "source": [
    "sns.set_style(\"darkgrid\")\n",
    "plt.figure(figsize=(20,4))\n",
    "plt.title(\"Dipsersion of Movie Runtimes\")\n",
    "sns.boxplot(run_norm)"
   ]
  },
  {
   "cell_type": "markdown",
   "metadata": {},
   "source": [
    "<p style=\"border:0.2px; border-style:solid; border-color:#A9A9A9; padding: 0.5em;font-size:14px;border-width:medium; text-align:center;\">  \n",
    "Based on our outlier funciton, technically the outliers for runtime are considered to be any movies less than 26.5 minutes and more than 142.5 miutes, \n",
    "however this is based on the skew of the current data set.<br>Traditionally speaking, movies lengths are generally a minimum of 50 minutes. Going forward we\n",
    "will try omitting movies less than 45minuts and more than 180 minutes(3 hours) in runtime.<br>\n",
    " </p>"
   ]
  },
  {
   "cell_type": "markdown",
   "metadata": {},
   "source": [
    "<center><p style=\"border:0.2px; border-style:solid; border-color:#A9A9A9; padding:0.5em;font-size:14px;border-width:medium; display:inline-block;\">  \n",
    "Revenue\n",
    " </p></center>"
   ]
  },
  {
   "cell_type": "code",
   "execution_count": 642,
   "metadata": {},
   "outputs": [],
   "source": [
    "rev_norm = m_df2[[\"production_budget\",\"domestic_gross\",\"worldwide_gross\"]][m_df2[\"domestic_gross\"].notna()]"
   ]
  },
  {
   "cell_type": "code",
   "execution_count": 651,
   "metadata": {},
   "outputs": [
    {
     "data": {
      "text/html": [
       "<div>\n",
       "<style scoped>\n",
       "    .dataframe tbody tr th:only-of-type {\n",
       "        vertical-align: middle;\n",
       "    }\n",
       "\n",
       "    .dataframe tbody tr th {\n",
       "        vertical-align: top;\n",
       "    }\n",
       "\n",
       "    .dataframe thead th {\n",
       "        text-align: right;\n",
       "    }\n",
       "</style>\n",
       "<table border=\"1\" class=\"dataframe\">\n",
       "  <thead>\n",
       "    <tr style=\"text-align: right;\">\n",
       "      <th></th>\n",
       "      <th>production_budget</th>\n",
       "      <th>domestic_gross</th>\n",
       "      <th>worldwide_gross</th>\n",
       "    </tr>\n",
       "  </thead>\n",
       "  <tbody>\n",
       "    <tr>\n",
       "      <th>count</th>\n",
       "      <td>2.284000e+03</td>\n",
       "      <td>2.284000e+03</td>\n",
       "      <td>2.284000e+03</td>\n",
       "    </tr>\n",
       "    <tr>\n",
       "      <th>mean</th>\n",
       "      <td>3.639080e+07</td>\n",
       "      <td>4.538217e+07</td>\n",
       "      <td>1.094640e+08</td>\n",
       "    </tr>\n",
       "    <tr>\n",
       "      <th>std</th>\n",
       "      <td>5.008948e+07</td>\n",
       "      <td>7.702034e+07</td>\n",
       "      <td>2.133728e+08</td>\n",
       "    </tr>\n",
       "    <tr>\n",
       "      <th>min</th>\n",
       "      <td>1.400000e+03</td>\n",
       "      <td>0.000000e+00</td>\n",
       "      <td>0.000000e+00</td>\n",
       "    </tr>\n",
       "    <tr>\n",
       "      <th>25%</th>\n",
       "      <td>5.000000e+06</td>\n",
       "      <td>6.413428e+05</td>\n",
       "      <td>2.418752e+06</td>\n",
       "    </tr>\n",
       "    <tr>\n",
       "      <th>50%</th>\n",
       "      <td>1.800000e+07</td>\n",
       "      <td>1.833764e+07</td>\n",
       "      <td>3.108955e+07</td>\n",
       "    </tr>\n",
       "    <tr>\n",
       "      <th>75%</th>\n",
       "      <td>4.500000e+07</td>\n",
       "      <td>5.489707e+07</td>\n",
       "      <td>1.113097e+08</td>\n",
       "    </tr>\n",
       "    <tr>\n",
       "      <th>max</th>\n",
       "      <td>4.250000e+08</td>\n",
       "      <td>7.605076e+08</td>\n",
       "      <td>2.776345e+09</td>\n",
       "    </tr>\n",
       "  </tbody>\n",
       "</table>\n",
       "</div>"
      ],
      "text/plain": [
       "       production_budget  domestic_gross  worldwide_gross\n",
       "count       2.284000e+03    2.284000e+03     2.284000e+03\n",
       "mean        3.639080e+07    4.538217e+07     1.094640e+08\n",
       "std         5.008948e+07    7.702034e+07     2.133728e+08\n",
       "min         1.400000e+03    0.000000e+00     0.000000e+00\n",
       "25%         5.000000e+06    6.413428e+05     2.418752e+06\n",
       "50%         1.800000e+07    1.833764e+07     3.108955e+07\n",
       "75%         4.500000e+07    5.489707e+07     1.113097e+08\n",
       "max         4.250000e+08    7.605076e+08     2.776345e+09"
      ]
     },
     "execution_count": 651,
     "metadata": {},
     "output_type": "execute_result"
    }
   ],
   "source": [
    "rev_norm.describe()"
   ]
  },
  {
   "cell_type": "markdown",
   "metadata": {},
   "source": [
    "<p style=\"border:0.2px; border-style:solid; border-color:#A9A9A9; padding: 0.5em;font-size:14px;border-width:medium; text-align:center;\">  \n",
    "Movie Runtime Insight\n",
    " </p>"
   ]
  },
  {
   "cell_type": "code",
   "execution_count": null,
   "metadata": {},
   "outputs": [],
   "source": []
  },
  {
   "cell_type": "code",
   "execution_count": 730,
   "metadata": {},
   "outputs": [
    {
     "data": {
      "text/html": [
       "<div>\n",
       "<style scoped>\n",
       "    .dataframe tbody tr th:only-of-type {\n",
       "        vertical-align: middle;\n",
       "    }\n",
       "\n",
       "    .dataframe tbody tr th {\n",
       "        vertical-align: top;\n",
       "    }\n",
       "\n",
       "    .dataframe thead th {\n",
       "        text-align: right;\n",
       "    }\n",
       "</style>\n",
       "<table border=\"1\" class=\"dataframe\">\n",
       "  <thead>\n",
       "    <tr style=\"text-align: right;\">\n",
       "      <th></th>\n",
       "      <th>title</th>\n",
       "      <th>original_title</th>\n",
       "      <th>start_year</th>\n",
       "      <th>runtime_minutes</th>\n",
       "      <th>genres</th>\n",
       "      <th>averagerating</th>\n",
       "      <th>numvotes</th>\n",
       "      <th>id</th>\n",
       "      <th>release_date</th>\n",
       "      <th>production_budget</th>\n",
       "      <th>domestic_gross</th>\n",
       "      <th>worldwide_gross</th>\n",
       "      <th>hours</th>\n",
       "    </tr>\n",
       "  </thead>\n",
       "  <tbody>\n",
       "    <tr>\n",
       "      <th>69</th>\n",
       "      <td>Anderson's Cross</td>\n",
       "      <td>Anderson's Cross</td>\n",
       "      <td>2010</td>\n",
       "      <td>98.0</td>\n",
       "      <td>Comedy,Drama,Romance</td>\n",
       "      <td>5.5</td>\n",
       "      <td>106.0</td>\n",
       "      <td>65.0</td>\n",
       "      <td>Dec 31, 2010</td>\n",
       "      <td>300000.0</td>\n",
       "      <td>0.0</td>\n",
       "      <td>0.0</td>\n",
       "      <td>1.6</td>\n",
       "    </tr>\n",
       "    <tr>\n",
       "      <th>158</th>\n",
       "      <td>House at the End of the Drive</td>\n",
       "      <td>House at the End of the Drive</td>\n",
       "      <td>2014</td>\n",
       "      <td>91.0</td>\n",
       "      <td>Horror,Thriller</td>\n",
       "      <td>6.5</td>\n",
       "      <td>331.0</td>\n",
       "      <td>28.0</td>\n",
       "      <td>Dec 31, 2014</td>\n",
       "      <td>1400000.0</td>\n",
       "      <td>0.0</td>\n",
       "      <td>0.0</td>\n",
       "      <td>1.5</td>\n",
       "    </tr>\n",
       "    <tr>\n",
       "      <th>201</th>\n",
       "      <td>Barry Munday</td>\n",
       "      <td>Barry Munday</td>\n",
       "      <td>2010</td>\n",
       "      <td>95.0</td>\n",
       "      <td>Comedy,Drama,Romance</td>\n",
       "      <td>5.9</td>\n",
       "      <td>3846.0</td>\n",
       "      <td>61.0</td>\n",
       "      <td>Oct 1, 2010</td>\n",
       "      <td>3000000.0</td>\n",
       "      <td>0.0</td>\n",
       "      <td>0.0</td>\n",
       "      <td>1.6</td>\n",
       "    </tr>\n",
       "    <tr>\n",
       "      <th>460</th>\n",
       "      <td>The Dead Undead</td>\n",
       "      <td>The Dead Undead</td>\n",
       "      <td>2010</td>\n",
       "      <td>89.0</td>\n",
       "      <td>Action,Horror,Sci-Fi</td>\n",
       "      <td>3.0</td>\n",
       "      <td>791.0</td>\n",
       "      <td>7.0</td>\n",
       "      <td>Dec 31, 2010</td>\n",
       "      <td>1100000.0</td>\n",
       "      <td>0.0</td>\n",
       "      <td>0.0</td>\n",
       "      <td>1.5</td>\n",
       "    </tr>\n",
       "    <tr>\n",
       "      <th>476</th>\n",
       "      <td>Freaky Deaky</td>\n",
       "      <td>Freaky Deaky</td>\n",
       "      <td>2012</td>\n",
       "      <td>90.0</td>\n",
       "      <td>Comedy,Crime,Thriller</td>\n",
       "      <td>6.1</td>\n",
       "      <td>6088.0</td>\n",
       "      <td>94.0</td>\n",
       "      <td>Dec 31, 2011</td>\n",
       "      <td>6000000.0</td>\n",
       "      <td>0.0</td>\n",
       "      <td>0.0</td>\n",
       "      <td>1.5</td>\n",
       "    </tr>\n",
       "  </tbody>\n",
       "</table>\n",
       "</div>"
      ],
      "text/plain": [
       "                             title                 original_title  start_year  \\\n",
       "69                Anderson's Cross               Anderson's Cross        2010   \n",
       "158  House at the End of the Drive  House at the End of the Drive        2014   \n",
       "201                   Barry Munday                   Barry Munday        2010   \n",
       "460                The Dead Undead                The Dead Undead        2010   \n",
       "476                   Freaky Deaky                   Freaky Deaky        2012   \n",
       "\n",
       "     runtime_minutes                 genres  averagerating  numvotes    id  \\\n",
       "69              98.0   Comedy,Drama,Romance            5.5     106.0  65.0   \n",
       "158             91.0        Horror,Thriller            6.5     331.0  28.0   \n",
       "201             95.0   Comedy,Drama,Romance            5.9    3846.0  61.0   \n",
       "460             89.0   Action,Horror,Sci-Fi            3.0     791.0   7.0   \n",
       "476             90.0  Comedy,Crime,Thriller            6.1    6088.0  94.0   \n",
       "\n",
       "     release_date  production_budget  domestic_gross  worldwide_gross  hours  \n",
       "69   Dec 31, 2010           300000.0             0.0              0.0    1.6  \n",
       "158  Dec 31, 2014          1400000.0             0.0              0.0    1.5  \n",
       "201   Oct 1, 2010          3000000.0             0.0              0.0    1.6  \n",
       "460  Dec 31, 2010          1100000.0             0.0              0.0    1.5  \n",
       "476  Dec 31, 2011          6000000.0             0.0              0.0    1.5  "
      ]
     },
     "execution_count": 730,
     "metadata": {},
     "output_type": "execute_result"
    }
   ],
   "source": [
    "m_df2[m_df2[\"worldwide_gross\"] == 0].head()"
   ]
  },
  {
   "cell_type": "code",
   "execution_count": 767,
   "metadata": {},
   "outputs": [
    {
     "data": {
      "text/plain": [
       "Text(0.5, 0, 'Worldwide Gross in Millions')"
      ]
     },
     "execution_count": 767,
     "metadata": {},
     "output_type": "execute_result"
    },
    {
     "data": {
      "image/png": "[encoded data removed]",
      "text/plain": [
       "<Figure size 1584x288 with 1 Axes>"
      ]
     },
     "metadata": {},
     "output_type": "display_data"
    }
   ],
   "source": [
    "# a lot of revenues at 0 \n",
    "plt.figure(figsize=(22,4))\n",
    "plt.title(\"Dispersion of Movie Revenue(Worldwide)\")\n",
    "sns.boxplot(rev_norm[\"worldwide_gross\"]);\n",
    "plt.xlabel(\"Worldwide Gross in Millions\")"
   ]
  },
  {
   "cell_type": "code",
   "execution_count": 725,
   "metadata": {},
   "outputs": [
    {
     "data": {
      "text/plain": [
       "production_budget    1400.0\n",
       "domestic_gross          0.0\n",
       "worldwide_gross         0.0\n",
       "dtype: float64"
      ]
     },
     "execution_count": 725,
     "metadata": {},
     "output_type": "execute_result"
    }
   ],
   "source": [
    "rev_norm.[\"wor\"]"
   ]
  },
  {
   "cell_type": "code",
   "execution_count": 723,
   "metadata": {},
   "outputs": [
    {
     "data": {
      "text/html": [
       "<div>\n",
       "<style scoped>\n",
       "    .dataframe tbody tr th:only-of-type {\n",
       "        vertical-align: middle;\n",
       "    }\n",
       "\n",
       "    .dataframe tbody tr th {\n",
       "        vertical-align: top;\n",
       "    }\n",
       "\n",
       "    .dataframe thead th {\n",
       "        text-align: right;\n",
       "    }\n",
       "</style>\n",
       "<table border=\"1\" class=\"dataframe\">\n",
       "  <thead>\n",
       "    <tr style=\"text-align: right;\">\n",
       "      <th></th>\n",
       "      <th>title</th>\n",
       "      <th>original_title</th>\n",
       "      <th>start_year</th>\n",
       "      <th>runtime_minutes</th>\n",
       "      <th>genres</th>\n",
       "      <th>averagerating</th>\n",
       "      <th>numvotes</th>\n",
       "      <th>id</th>\n",
       "      <th>release_date</th>\n",
       "      <th>production_budget</th>\n",
       "      <th>domestic_gross</th>\n",
       "      <th>worldwide_gross</th>\n",
       "      <th>hours</th>\n",
       "    </tr>\n",
       "  </thead>\n",
       "  <tbody>\n",
       "  </tbody>\n",
       "</table>\n",
       "</div>"
      ],
      "text/plain": [
       "Empty DataFrame\n",
       "Columns: [title, original_title, start_year, runtime_minutes, genres, averagerating, numvotes, id, release_date, production_budget, domestic_gross, worldwide_gross, hours]\n",
       "Index: []"
      ]
     },
     "execution_count": 723,
     "metadata": {},
     "output_type": "execute_result"
    }
   ],
   "source": [
    "m_df2[m_df2[\"worldwide_gross\"] < 0]"
   ]
  },
  {
   "cell_type": "markdown",
   "metadata": {},
   "source": [
    "<p style=\"border:0.2px; border-style:solid; border-color:#A9A9A9; padding: 0.5em;font-size:14px;border-width:medium; text-align:center;\">  \n",
    "shows majority of revenue values are insuficient for an alysis <br>\n",
    "    Need to adjust x ticks to show in millions or something revenues showing that there is no revenue, however have production \n",
    "also not enough columns matched for revenue. we will nto continue on our anaylsis with revenues being a prinary factor \n",
    "but using other columsn such as rating and votes \n",
    " </p>"
   ]
  },
  {
   "cell_type": "code",
   "execution_count": 1195,
   "metadata": {},
   "outputs": [
    {
     "name": "stdout",
     "output_type": "stream",
     "text": [
      "2284\n"
     ]
    },
    {
     "data": {
      "image/png": "[encoded data removed]",
      "text/plain": [
       "<Figure size 1080x360 with 3 Axes>"
      ]
     },
     "metadata": {},
     "output_type": "display_data"
    }
   ],
   "source": [
    "f,axes = plt.subplots(nrows=1, ncols=3, figsize=(15,5))\n",
    "\n",
    "ax0 = axes[0]\n",
    "ax1= axes[1]\n",
    "ax2 = axes[2]\n",
    "ax0.set_title(\"Production Budget\")\n",
    "ax1.set_title(\"Domestic Gross\")\n",
    "ax2.set_title(\"Worldwide Gross\")\n",
    "\n",
    "rev_norm[\"production_budget\"].hist(bins=20, ax=ax0)\n",
    "rev_norm[\"domestic_gross\"].hist(bins=20, ax=ax1)\n",
    "rev_norm[\"worldwide_gross\"].hist(bins=20,ax=ax2)\n",
    "print(len(rev_norm))"
   ]
  },
  {
   "cell_type": "markdown",
   "metadata": {},
   "source": [
    "<center><p style=\"border:0.2px; border-style:solid; border-color:#A9A9A9; padding:0.5em;font-size:14px;border-width:medium; display:inline-block;\">  \n",
    "Movie Genre\n",
    " </p></center>"
   ]
  },
  {
   "cell_type": "code",
   "execution_count": 1021,
   "metadata": {},
   "outputs": [
    {
     "name": "stdout",
     "output_type": "stream",
     "text": [
      "0\n",
      "0\n"
     ]
    }
   ],
   "source": [
    "# some movies have missing genres, and other missing data. While others only have missing genres. we will try to work around those only with missing genres so they can perhaps be used in later anaylisis \n",
    "print(len( m_df2[(m_df2[\"genres\"].isna()) & (m_df2[\"runtime_minutes\"].isna())]))\n",
    "print(len(m_df2[(m_df2[\"genres\"].isna()) & (m_df2[\"averagerating\"].isna())]))"
   ]
  },
  {
   "cell_type": "code",
   "execution_count": 963,
   "metadata": {},
   "outputs": [],
   "source": [
    "m_df2[\"genres\"].fillna(\"x\", inplace=True)"
   ]
  },
  {
   "cell_type": "code",
   "execution_count": 1014,
   "metadata": {},
   "outputs": [],
   "source": [
    "m_df2[\"prime_genre\"] = m_df2[\"genres\"].map(lambda x: x.split(\",\"))\n",
    "m_df2[\"prime_genre\"] = m_df2[\"prime_genre\"].map(lambda x: x[0])"
   ]
  },
  {
   "cell_type": "code",
   "execution_count": 1009,
   "metadata": {},
   "outputs": [],
   "source": [
    "m_df2[\"prime_genre\"] = [i for i in m_df2[\"genres\"]]"
   ]
  },
  {
   "cell_type": "code",
   "execution_count": 1023,
   "metadata": {},
   "outputs": [],
   "source": [
    "m_df2[\"prime_genre\"].replace(\"x\",np.nan, inplace=True)"
   ]
  },
  {
   "cell_type": "code",
   "execution_count": 1024,
   "metadata": {},
   "outputs": [
    {
     "data": {
      "text/html": [
       "<div>\n",
       "<style scoped>\n",
       "    .dataframe tbody tr th:only-of-type {\n",
       "        vertical-align: middle;\n",
       "    }\n",
       "\n",
       "    .dataframe tbody tr th {\n",
       "        vertical-align: top;\n",
       "    }\n",
       "\n",
       "    .dataframe thead th {\n",
       "        text-align: right;\n",
       "    }\n",
       "</style>\n",
       "<table border=\"1\" class=\"dataframe\">\n",
       "  <thead>\n",
       "    <tr style=\"text-align: right;\">\n",
       "      <th></th>\n",
       "      <th>title</th>\n",
       "      <th>original_title</th>\n",
       "      <th>start_year</th>\n",
       "      <th>runtime_minutes</th>\n",
       "      <th>genres</th>\n",
       "      <th>averagerating</th>\n",
       "      <th>numvotes</th>\n",
       "      <th>id</th>\n",
       "      <th>release_date</th>\n",
       "      <th>production_budget</th>\n",
       "      <th>domestic_gross</th>\n",
       "      <th>worldwide_gross</th>\n",
       "      <th>hours</th>\n",
       "      <th>prime_genre</th>\n",
       "    </tr>\n",
       "  </thead>\n",
       "  <tbody>\n",
       "  </tbody>\n",
       "</table>\n",
       "</div>"
      ],
      "text/plain": [
       "Empty DataFrame\n",
       "Columns: [title, original_title, start_year, runtime_minutes, genres, averagerating, numvotes, id, release_date, production_budget, domestic_gross, worldwide_gross, hours, prime_genre]\n",
       "Index: []"
      ]
     },
     "execution_count": 1024,
     "metadata": {},
     "output_type": "execute_result"
    }
   ],
   "source": [
    "m_df2[m_df2[\"prime_genre\"] ==\"x\"]"
   ]
  },
  {
   "cell_type": "code",
   "execution_count": 2267,
   "metadata": {},
   "outputs": [
    {
     "name": "stdout",
     "output_type": "stream",
     "text": [
      "(0, 'Action'),(1, 'Biography'),(2, 'Drama'),(3, 'Comedy'),(4, 'Horror'),(5, 'Adventure'),(6, 'Documentary'),(7, 'History'),(8, 'Animation'),(9, nan),(10, 'Crime'),(11, 'Sci-Fi'),(12, 'Thriller'),(13, 'Fantasy'),(14, 'Mystery'),(15, 'Musical'),(16, 'Family'),(17, 'Western'),(18, 'Romance'),(19, 'Sport'),(20, 'Adult'),(21, 'Music'),(22, 'News'),(23, 'Reality-TV'),(24, 'War'),(25, 'Game-Show'),"
     ]
    }
   ],
   "source": [
    "for i in enumerate(m_df2[\"prime_genre\"].unique()):\n",
    "    print(i, end=\",\")"
   ]
  },
  {
   "cell_type": "code",
   "execution_count": 2266,
   "metadata": {},
   "outputs": [
    {
     "data": {
      "text/plain": [
       "array(['Action', 'Biography', 'Drama', 'Comedy', 'Horror', 'Adventure',\n",
       "       'Documentary', 'History', 'Animation', nan, 'Crime', 'Sci-Fi',\n",
       "       'Thriller', 'Fantasy', 'Mystery', 'Musical', 'Family', 'Western',\n",
       "       'Romance', 'Sport', 'Adult', 'Music', 'News', 'Reality-TV', 'War',\n",
       "       'Game-Show'], dtype=object)"
      ]
     },
     "execution_count": 2266,
     "metadata": {},
     "output_type": "execute_result"
    }
   ],
   "source": [
    "m_df2[\"prime_genre\"].unique()"
   ]
  },
  {
   "cell_type": "code",
   "execution_count": null,
   "metadata": {},
   "outputs": [],
   "source": [
    "# non movie genres \n",
    "print(m_df2[\"prime_genre\"].unique()[25])\n",
    "print(m_df2[\"prime_genre\"].unique()[23])\n",
    "print(m_df2[\"prime_genre\"].unique()[22])\n",
    "print(m_df2[\"prime_genre\"].unique()[21])\n",
    "print(m_df2[\"prime_genre\"].unique()[20])"
   ]
  },
  {
   "cell_type": "code",
   "execution_count": 2287,
   "metadata": {},
   "outputs": [],
   "source": [
    "#dropping movie genres\n",
    "gen_drop = [25,23,22,21,20]\n",
    "for i in  gen_drop:\n",
    "    drop_list = m_df2[m_df2[\"prime_genre\"]==m_df2[\"prime_genre\"].unique()[i]]\n",
    "    m_df2.drop(drop_list.index, inplace=True)"
   ]
  },
  {
   "cell_type": "markdown",
   "metadata": {},
   "source": [
    "<p style=\"border:0.2px; border-style:solid; border-color:#A9A9A9; padding: 0.5em;font-size:14px;border-width:medium; text-align:center;\">  \n",
    "Movie Genre Insight\n",
    " </p>"
   ]
  },
  {
   "cell_type": "code",
   "execution_count": 1056,
   "metadata": {},
   "outputs": [
    {
     "data": {
      "text/plain": [
       "Documentary    36040\n",
       "Drama          28128\n",
       "Comedy         20219\n",
       "Action          9427\n",
       "Biography       6593\n",
       "Horror          6019\n",
       "Adventure       4223\n",
       "Crime           3480\n",
       "Thriller        2653\n",
       "Animation       1681\n",
       "Name: prime_genre, dtype: int64"
      ]
     },
     "execution_count": 1056,
     "metadata": {},
     "output_type": "execute_result"
    }
   ],
   "source": [
    "# top 10/most common Movie Genres for 2010-2018\n",
    "m_df2[\"prime_genre\"].value_counts()[0:10]"
   ]
  },
  {
   "cell_type": "code",
   "execution_count": 2288,
   "metadata": {},
   "outputs": [
    {
     "data": {
      "image/png": "[encoded data removed]",
      "text/plain": [
       "<Figure size 1008x504 with 1 Axes>"
      ]
     },
     "metadata": {},
     "output_type": "display_data"
    }
   ],
   "source": [
    "sns.set_style(\"darkgrid\") # setting chart style \n",
    "\n",
    "plt.figure(figsize=(14,7)) #creating plot figure \n",
    "m_df2.groupby(\"prime_genre\").count()[\"title\"].sort_values(ascending=True).plot(kind=\"barh\") #plotting grouped dataframe\n",
    "plt.title(\"Top Movie Genres Produced (2010-2018)\",fontdict={\"size\":15},fontweight=\"bold\") #defining title and fotn styles\n",
    "plt.xlabel(\"Genre Count\",fontdict={\"size\":13}) #defining x-axis label\n",
    "plt.ylabel(\"Movie Genres\",fontdict={\"size\":14}) #defining y-axis label\n",
    "plt.xticks(fontsize=12)\n",
    "plt.yticks(fontsize=13);"
   ]
  },
  {
   "cell_type": "markdown",
   "metadata": {},
   "source": [
    "<div style=\"border:0.2px; border-style:solid; border-color:#A9A9A9; padding: 0.5em;font-size:14px;border-width:medium;\">\n",
    "<p>  \n",
    "According to our data the top ranking movie genre is respect to qaunty is Documentary(36040).<br> \n",
    "The remaing top 5 quanittiy of genres are the following that is: <br></p>\n",
    "    <ul>\n",
    "        <li>Drama (28128)\n",
    "        <li>Comedy (20219)\n",
    "        <li>Action (9427)\n",
    "        <li>Biography (6593)\n",
    "    </ul>\n",
    "<p>\n",
    "Based on our data the genre quanitites far trail behind the or top 3.\n",
    "</div>"
   ]
  },
  {
   "cell_type": "markdown",
   "metadata": {},
   "source": [
    "<p style=\"border:0.2px; border-style:solid; border-color:#1C6EA4; padding: 0.5em;font-size:15px; text-align:center;border-width:medium\">\n",
    "    <b>Clean</b>\n",
    "</p>"
   ]
  },
  {
   "cell_type": "markdown",
   "metadata": {},
   "source": [
    "<center><p style=\"border:0.2px; border-style:solid; border-color:#A9A9A9; padding:0.5em;font-size:14px;border-width:medium; display:inline-block;\">  \n",
    "Average Ratings\n",
    " </p></center>"
   ]
  },
  {
   "cell_type": "code",
   "execution_count": 2215,
   "metadata": {},
   "outputs": [],
   "source": [
    "# copying dataframe and renaming as a safegaurd for previous steps \n",
    "df_movie = m_df2.copy()"
   ]
  },
  {
   "cell_type": "code",
   "execution_count": 2221,
   "metadata": {},
   "outputs": [],
   "source": [
    "df_movie.rename(columns={\"start_year\":\"year\"}, inplace=True) #renaming colum for more intuitive use "
   ]
  },
  {
   "cell_type": "code",
   "execution_count": 1031,
   "metadata": {},
   "outputs": [
    {
     "data": {
      "text/html": [
       "<div>\n",
       "<style scoped>\n",
       "    .dataframe tbody tr th:only-of-type {\n",
       "        vertical-align: middle;\n",
       "    }\n",
       "\n",
       "    .dataframe tbody tr th {\n",
       "        vertical-align: top;\n",
       "    }\n",
       "\n",
       "    .dataframe thead th {\n",
       "        text-align: right;\n",
       "    }\n",
       "</style>\n",
       "<table border=\"1\" class=\"dataframe\">\n",
       "  <thead>\n",
       "    <tr style=\"text-align: right;\">\n",
       "      <th></th>\n",
       "      <th>title</th>\n",
       "      <th>original_title</th>\n",
       "      <th>year</th>\n",
       "      <th>runtime_minutes</th>\n",
       "      <th>genres</th>\n",
       "      <th>averagerating</th>\n",
       "      <th>numvotes</th>\n",
       "      <th>id</th>\n",
       "      <th>release_date</th>\n",
       "      <th>production_budget</th>\n",
       "      <th>domestic_gross</th>\n",
       "      <th>worldwide_gross</th>\n",
       "      <th>hours</th>\n",
       "      <th>prime_genre</th>\n",
       "    </tr>\n",
       "  </thead>\n",
       "  <tbody>\n",
       "    <tr>\n",
       "      <th>0</th>\n",
       "      <td>Sunghursh</td>\n",
       "      <td>Sunghursh</td>\n",
       "      <td>2013</td>\n",
       "      <td>175.0</td>\n",
       "      <td>Action,Crime,Drama</td>\n",
       "      <td>7.0</td>\n",
       "      <td>77.0</td>\n",
       "      <td>NaN</td>\n",
       "      <td>NaN</td>\n",
       "      <td>NaN</td>\n",
       "      <td>NaN</td>\n",
       "      <td>NaN</td>\n",
       "      <td>2.9</td>\n",
       "      <td>Action</td>\n",
       "    </tr>\n",
       "    <tr>\n",
       "      <th>1</th>\n",
       "      <td>One Day Before the Rainy Season</td>\n",
       "      <td>Ashad Ka Ek Din</td>\n",
       "      <td>2019</td>\n",
       "      <td>114.0</td>\n",
       "      <td>Biography,Drama</td>\n",
       "      <td>7.2</td>\n",
       "      <td>43.0</td>\n",
       "      <td>NaN</td>\n",
       "      <td>NaN</td>\n",
       "      <td>NaN</td>\n",
       "      <td>NaN</td>\n",
       "      <td>NaN</td>\n",
       "      <td>1.9</td>\n",
       "      <td>Biography</td>\n",
       "    </tr>\n",
       "    <tr>\n",
       "      <th>2</th>\n",
       "      <td>The Other Side of the Wind</td>\n",
       "      <td>The Other Side of the Wind</td>\n",
       "      <td>2018</td>\n",
       "      <td>122.0</td>\n",
       "      <td>Drama</td>\n",
       "      <td>6.9</td>\n",
       "      <td>4517.0</td>\n",
       "      <td>NaN</td>\n",
       "      <td>NaN</td>\n",
       "      <td>NaN</td>\n",
       "      <td>NaN</td>\n",
       "      <td>NaN</td>\n",
       "      <td>2.0</td>\n",
       "      <td>Drama</td>\n",
       "    </tr>\n",
       "    <tr>\n",
       "      <th>3</th>\n",
       "      <td>Sabse Bada Sukh</td>\n",
       "      <td>Sabse Bada Sukh</td>\n",
       "      <td>2018</td>\n",
       "      <td>NaN</td>\n",
       "      <td>Comedy,Drama</td>\n",
       "      <td>6.1</td>\n",
       "      <td>13.0</td>\n",
       "      <td>NaN</td>\n",
       "      <td>NaN</td>\n",
       "      <td>NaN</td>\n",
       "      <td>NaN</td>\n",
       "      <td>NaN</td>\n",
       "      <td>NaN</td>\n",
       "      <td>Comedy</td>\n",
       "    </tr>\n",
       "    <tr>\n",
       "      <th>4</th>\n",
       "      <td>The Wandering Soap Opera</td>\n",
       "      <td>La Telenovela Errante</td>\n",
       "      <td>2017</td>\n",
       "      <td>80.0</td>\n",
       "      <td>Comedy,Drama,Fantasy</td>\n",
       "      <td>6.5</td>\n",
       "      <td>119.0</td>\n",
       "      <td>NaN</td>\n",
       "      <td>NaN</td>\n",
       "      <td>NaN</td>\n",
       "      <td>NaN</td>\n",
       "      <td>NaN</td>\n",
       "      <td>1.3</td>\n",
       "      <td>Comedy</td>\n",
       "    </tr>\n",
       "  </tbody>\n",
       "</table>\n",
       "</div>"
      ],
      "text/plain": [
       "                             title              original_title  year  \\\n",
       "0                        Sunghursh                   Sunghursh  2013   \n",
       "1  One Day Before the Rainy Season             Ashad Ka Ek Din  2019   \n",
       "2       The Other Side of the Wind  The Other Side of the Wind  2018   \n",
       "3                  Sabse Bada Sukh             Sabse Bada Sukh  2018   \n",
       "4         The Wandering Soap Opera       La Telenovela Errante  2017   \n",
       "\n",
       "   runtime_minutes                genres  averagerating  numvotes  id  \\\n",
       "0            175.0    Action,Crime,Drama            7.0      77.0 NaN   \n",
       "1            114.0       Biography,Drama            7.2      43.0 NaN   \n",
       "2            122.0                 Drama            6.9    4517.0 NaN   \n",
       "3              NaN          Comedy,Drama            6.1      13.0 NaN   \n",
       "4             80.0  Comedy,Drama,Fantasy            6.5     119.0 NaN   \n",
       "\n",
       "  release_date  production_budget  domestic_gross  worldwide_gross  hours  \\\n",
       "0          NaN                NaN             NaN              NaN    2.9   \n",
       "1          NaN                NaN             NaN              NaN    1.9   \n",
       "2          NaN                NaN             NaN              NaN    2.0   \n",
       "3          NaN                NaN             NaN              NaN    NaN   \n",
       "4          NaN                NaN             NaN              NaN    1.3   \n",
       "\n",
       "  prime_genre  \n",
       "0      Action  \n",
       "1   Biography  \n",
       "2       Drama  \n",
       "3      Comedy  \n",
       "4      Comedy  "
      ]
     },
     "execution_count": 1031,
     "metadata": {},
     "output_type": "execute_result"
    }
   ],
   "source": [
    "df_movie.head()"
   ]
  },
  {
   "cell_type": "code",
   "execution_count": 1032,
   "metadata": {},
   "outputs": [
    {
     "data": {
      "text/plain": [
       "2017    15092\n",
       "2016    14950\n",
       "2018    14656\n",
       "2015    14175\n",
       "2014    13908\n",
       "2013    13266\n",
       "2012    12670\n",
       "2011    12017\n",
       "2010    11196\n",
       "2019     7603\n",
       "2020      886\n",
       "2021       76\n",
       "2022       21\n",
       "2023        4\n",
       "2025        1\n",
       "2024        1\n",
       "2027        1\n",
       "Name: year, dtype: int64"
      ]
     },
     "execution_count": 1032,
     "metadata": {},
     "output_type": "execute_result"
    }
   ],
   "source": [
    "df_movie.year.value_counts()# reviewing move time-frames by year "
   ]
  },
  {
   "cell_type": "code",
   "execution_count": 1034,
   "metadata": {},
   "outputs": [
    {
     "data": {
      "text/plain": [
       "title                121930\n",
       "original_title       121916\n",
       "year                 121930\n",
       "runtime_minutes       96944\n",
       "genres               121930\n",
       "averagerating         66435\n",
       "numvotes              66435\n",
       "id                     2176\n",
       "release_date           2176\n",
       "production_budget      2176\n",
       "domestic_gross         2176\n",
       "worldwide_gross        2176\n",
       "hours                 96944\n",
       "prime_genre          117391\n",
       "dtype: int64"
      ]
     },
     "execution_count": 1034,
     "metadata": {},
     "output_type": "execute_result"
    }
   ],
   "source": [
    "df_movie[(df_movie[\"year\"]>= 2010) & (df_movie[\"year\"]<=2018)].count() #reviewing overall data for timeframe of movies we want to use "
   ]
  },
  {
   "cell_type": "code",
   "execution_count": 1036,
   "metadata": {},
   "outputs": [
    {
     "data": {
      "text/plain": [
       "8593"
      ]
     },
     "execution_count": 1036,
     "metadata": {},
     "output_type": "execute_result"
    }
   ],
   "source": [
    "len(df_movie[(df_movie[\"year\"]<2010) | (df_movie[\"year\"]>2018)]) # ammount of rows we will be omitting "
   ]
  },
  {
   "cell_type": "code",
   "execution_count": 1037,
   "metadata": {},
   "outputs": [],
   "source": [
    "df_movie.drop(df_movie[(df_movie[\"year\"]<2010) | (df_movie[\"year\"]>2018)].index, inplace=True) #dropping rows "
   ]
  },
  {
   "cell_type": "markdown",
   "metadata": {},
   "source": [
    "<p style=\"border:0.2px; border-style:solid; border-color:#A9A9A9; padding: 0.5em;font-size:14px;border-width:medium; text-align:center;\">  \n",
    "Movie Count Insight\n",
    " </p>"
   ]
  },
  {
   "cell_type": "code",
   "execution_count": null,
   "metadata": {},
   "outputs": [],
   "source": [
    "y_point = []\n",
    "for i in df_movie.groupby(\"year\")[\"title\"].count():\n",
    "    y_point.append(i)\n",
    "x_point = list(range(len(yp)))\n",
    "print(x_point)\n",
    "print(y_point)"
   ]
  },
  {
   "cell_type": "code",
   "execution_count": 2290,
   "metadata": {},
   "outputs": [
    {
     "data": {
      "image/png": "[encoded data removed]",
      "text/plain": [
       "<Figure size 864x432 with 1 Axes>"
      ]
     },
     "metadata": {},
     "output_type": "display_data"
    }
   ],
   "source": [
    "fig, ax = plt.subplots(figsize=(12,6))\n",
    "plt.style.use('fivethirtyeight')\n",
    "\n",
    "df_movie.groupby(\"year\")[\"title\"].count().plot(kind=\"bar\", width=0.6)\n",
    "plt.xlabel(\"Year\", fontsize = 15)\n",
    "plt.ylabel(\"Movie Count\")\n",
    "plt.title(\"Movie Count by Year\")\n",
    "plt.xticks(rotation=50);\n",
    "for i in xp:\n",
    "    ax.annotate(yp[i],(xp[i],yp[i]), ha=\"center\")"
   ]
  },
  {
   "cell_type": "code",
   "execution_count": 854,
   "metadata": {},
   "outputs": [
    {
     "data": {
      "text/plain": [
       "year\n",
       "2010    11538\n",
       "2011    12405\n",
       "2012    13149\n",
       "2013    13882\n",
       "2014    14526\n",
       "2015    14921\n",
       "2016    15750\n",
       "2017    15945\n",
       "2018    15230\n",
       "Name: title, dtype: int64"
      ]
     },
     "execution_count": 854,
     "metadata": {},
     "output_type": "execute_result"
    }
   ],
   "source": [
    "df_movie.groupby(\"year\")[\"title\"].count()"
   ]
  },
  {
   "cell_type": "markdown",
   "metadata": {},
   "source": [
    "<p style=\"border:0.2px; border-style:solid; border-color:#1C6EA4; padding: 0.5em;font-size:15px; text-align:center;border-width:medium\">\n",
    "    <b>Analysis & Visualization</b>\n",
    "</p>"
   ]
  },
  {
   "cell_type": "markdown",
   "metadata": {},
   "source": [
    "<center><p style=\"border:0.2px; border-style:solid; border-color:#A9A9A9; padding:0.5em;font-size:14px;border-width:medium; display:inline-block;\">  \n",
    "Average Ratings\n",
    " </p></center>"
   ]
  },
  {
   "cell_type": "code",
   "execution_count": 2252,
   "metadata": {},
   "outputs": [
    {
     "data": {
      "text/plain": [
       "count    68402.000000\n",
       "mean         6.332012\n",
       "std          1.478529\n",
       "min          1.000000\n",
       "25%          5.500000\n",
       "50%          6.500000\n",
       "75%          7.400000\n",
       "max         10.000000\n",
       "Name: averagerating, dtype: float64"
      ]
     },
     "execution_count": 2252,
     "metadata": {},
     "output_type": "execute_result"
    }
   ],
   "source": [
    "df_movie[\"averagerating\"].describe()"
   ]
  },
  {
   "cell_type": "markdown",
   "metadata": {},
   "source": [
    "highlight all tops by diving by top 25-30% create color map "
   ]
  },
  {
   "cell_type": "code",
   "execution_count": 2255,
   "metadata": {},
   "outputs": [
    {
     "data": {
      "text/html": [
       "<div>\n",
       "<style scoped>\n",
       "    .dataframe tbody tr th:only-of-type {\n",
       "        vertical-align: middle;\n",
       "    }\n",
       "\n",
       "    .dataframe tbody tr th {\n",
       "        vertical-align: top;\n",
       "    }\n",
       "\n",
       "    .dataframe thead th {\n",
       "        text-align: right;\n",
       "    }\n",
       "</style>\n",
       "<table border=\"1\" class=\"dataframe\">\n",
       "  <thead>\n",
       "    <tr style=\"text-align: right;\">\n",
       "      <th></th>\n",
       "      <th>title</th>\n",
       "      <th>original_title</th>\n",
       "      <th>year</th>\n",
       "      <th>runtime_minutes</th>\n",
       "      <th>genres</th>\n",
       "      <th>averagerating</th>\n",
       "      <th>numvotes</th>\n",
       "      <th>id</th>\n",
       "      <th>release_date</th>\n",
       "      <th>production_budget</th>\n",
       "      <th>domestic_gross</th>\n",
       "      <th>worldwide_gross</th>\n",
       "      <th>hours</th>\n",
       "      <th>prime_genre</th>\n",
       "    </tr>\n",
       "  </thead>\n",
       "  <tbody>\n",
       "    <tr>\n",
       "      <th>46913</th>\n",
       "      <td>Wait Wait Don't Tell Me Live!</td>\n",
       "      <td>Wait Wait Don't Tell Me Live!</td>\n",
       "      <td>2013</td>\n",
       "      <td>130.0</td>\n",
       "      <td>Game-Show</td>\n",
       "      <td>9.0</td>\n",
       "      <td>7.0</td>\n",
       "      <td>NaN</td>\n",
       "      <td>NaN</td>\n",
       "      <td>NaN</td>\n",
       "      <td>NaN</td>\n",
       "      <td>NaN</td>\n",
       "      <td>2.2</td>\n",
       "      <td>Game-Show</td>\n",
       "    </tr>\n",
       "    <tr>\n",
       "      <th>74209</th>\n",
       "      <td>Level 48</td>\n",
       "      <td>Level 48</td>\n",
       "      <td>2014</td>\n",
       "      <td>NaN</td>\n",
       "      <td>Game-Show</td>\n",
       "      <td>NaN</td>\n",
       "      <td>NaN</td>\n",
       "      <td>NaN</td>\n",
       "      <td>NaN</td>\n",
       "      <td>NaN</td>\n",
       "      <td>NaN</td>\n",
       "      <td>NaN</td>\n",
       "      <td>NaN</td>\n",
       "      <td>Game-Show</td>\n",
       "    </tr>\n",
       "  </tbody>\n",
       "</table>\n",
       "</div>"
      ],
      "text/plain": [
       "                               title                 original_title  year  \\\n",
       "46913  Wait Wait Don't Tell Me Live!  Wait Wait Don't Tell Me Live!  2013   \n",
       "74209                       Level 48                       Level 48  2014   \n",
       "\n",
       "       runtime_minutes     genres  averagerating  numvotes  id release_date  \\\n",
       "46913            130.0  Game-Show            9.0       7.0 NaN          NaN   \n",
       "74209              NaN  Game-Show            NaN       NaN NaN          NaN   \n",
       "\n",
       "       production_budget  domestic_gross  worldwide_gross  hours prime_genre  \n",
       "46913                NaN             NaN              NaN    2.2   Game-Show  \n",
       "74209                NaN             NaN              NaN    NaN   Game-Show  "
      ]
     },
     "execution_count": 2255,
     "metadata": {},
     "output_type": "execute_result"
    }
   ],
   "source": [
    "df_movie[df_movie[\"prime_genre\"]==\"Game-Show\"]"
   ]
  },
  {
   "cell_type": "code",
   "execution_count": 2231,
   "metadata": {},
   "outputs": [
    {
     "data": {
      "image/png": "[encoded data removed]",
      "text/plain": [
       "<Figure size 720x576 with 1 Axes>"
      ]
     },
     "metadata": {},
     "output_type": "display_data"
    }
   ],
   "source": [
    "sns.set_style(\"darkgrid\")\n",
    "fig, ax = plt.subplots(figsize=(10,8))\n",
    "df_movie.groupby(\"prime_genre\")[\"averagerating\"].mean().sort_values().plot(kind=\"barh\", width=.9)\n",
    "plt.title(\"Total Average Rating by Movie Genre (2010-2018)\")\n",
    "plt.ylabel(\"Genres\")\n",
    "plt.xlabel(\"Rating\")\n",
    "xticks = np.linspace(0,10,6)\n",
    "plt.xticks(xticks)\n",
    "plt.show()"
   ]
  },
  {
   "cell_type": "code",
   "execution_count": 1952,
   "metadata": {},
   "outputs": [],
   "source": [
    "frame_prime = df_movie.groupby([\"prime_genre\",\"year\"])[\"averagerating\"].mean().to_frame() # creating dataframe for plotting"
   ]
  },
  {
   "cell_type": "code",
   "execution_count": 1953,
   "metadata": {},
   "outputs": [],
   "source": [
    "frame_prime.reset_index(inplace=True) # resetting default index so all columns are intuitively accesable "
   ]
  },
  {
   "cell_type": "code",
   "execution_count": 1957,
   "metadata": {},
   "outputs": [
    {
     "data": {
      "text/plain": [
       "[0, 2010, 2011, 2012, 2013, 2014, 2015, 2016, 2017, 2018]"
      ]
     },
     "execution_count": 1957,
     "metadata": {},
     "output_type": "execute_result"
    }
   ],
   "source": [
    "# creating list of years for indicing and looping \n",
    "year_list = frame_prime.year.unique().tolist()\n",
    "year_list.append(0)\n",
    "year_list = sorted(year_list)\n",
    "year_list"
   ]
  },
  {
   "cell_type": "code",
   "execution_count": 2336,
   "metadata": {},
   "outputs": [
    {
     "data": {
      "text/html": [
       "<div>\n",
       "<style scoped>\n",
       "    .dataframe tbody tr th:only-of-type {\n",
       "        vertical-align: middle;\n",
       "    }\n",
       "\n",
       "    .dataframe tbody tr th {\n",
       "        vertical-align: top;\n",
       "    }\n",
       "\n",
       "    .dataframe thead th {\n",
       "        text-align: right;\n",
       "    }\n",
       "</style>\n",
       "<table border=\"1\" class=\"dataframe\">\n",
       "  <thead>\n",
       "    <tr style=\"text-align: right;\">\n",
       "      <th></th>\n",
       "      <th>prime_genre</th>\n",
       "      <th>year</th>\n",
       "      <th>averagerating</th>\n",
       "    </tr>\n",
       "  </thead>\n",
       "  <tbody>\n",
       "    <tr>\n",
       "      <th>0</th>\n",
       "      <td>Action</td>\n",
       "      <td>2010</td>\n",
       "      <td>5.676254</td>\n",
       "    </tr>\n",
       "    <tr>\n",
       "      <th>1</th>\n",
       "      <td>Action</td>\n",
       "      <td>2011</td>\n",
       "      <td>5.725224</td>\n",
       "    </tr>\n",
       "    <tr>\n",
       "      <th>2</th>\n",
       "      <td>Action</td>\n",
       "      <td>2012</td>\n",
       "      <td>5.877795</td>\n",
       "    </tr>\n",
       "    <tr>\n",
       "      <th>3</th>\n",
       "      <td>Action</td>\n",
       "      <td>2013</td>\n",
       "      <td>5.731832</td>\n",
       "    </tr>\n",
       "    <tr>\n",
       "      <th>4</th>\n",
       "      <td>Action</td>\n",
       "      <td>2014</td>\n",
       "      <td>5.903112</td>\n",
       "    </tr>\n",
       "  </tbody>\n",
       "</table>\n",
       "</div>"
      ],
      "text/plain": [
       "  prime_genre  year  averagerating\n",
       "0      Action  2010       5.676254\n",
       "1      Action  2011       5.725224\n",
       "2      Action  2012       5.877795\n",
       "3      Action  2013       5.731832\n",
       "4      Action  2014       5.903112"
      ]
     },
     "execution_count": 2336,
     "metadata": {},
     "output_type": "execute_result"
    }
   ],
   "source": [
    "frame_prime.head()"
   ]
  },
  {
   "cell_type": "code",
   "execution_count": 2369,
   "metadata": {},
   "outputs": [
    {
     "data": {
      "text/plain": [
       "2010"
      ]
     },
     "execution_count": 2369,
     "metadata": {},
     "output_type": "execute_result"
    }
   ],
   "source": [
    "year_list[1]"
   ]
  },
  {
   "cell_type": "code",
   "execution_count": 2371,
   "metadata": {},
   "outputs": [
    {
     "data": {
      "text/plain": [
       "59     7.27\n",
       "32     7.13\n",
       "176    7.09\n",
       "115    7.07\n",
       "23     6.63\n",
       "Name: averagerating, dtype: float64"
      ]
     },
     "execution_count": 2371,
     "metadata": {},
     "output_type": "execute_result"
    }
   ],
   "source": [
    "frame_prime[frame_prime[\"year\"] == 2010].sort_values(\"averagerating\", ascending=False)[0:5][\"averagerating\"].round(2)"
   ]
  },
  {
   "cell_type": "code",
   "execution_count": 2435,
   "metadata": {},
   "outputs": [],
   "source": [
    "frame_prime[\"year\"] = frame_prime[\"year\"].astype(float)"
   ]
  },
  {
   "cell_type": "code",
   "execution_count": 2436,
   "metadata": {},
   "outputs": [
    {
     "data": {
      "text/html": [
       "<div>\n",
       "<style scoped>\n",
       "    .dataframe tbody tr th:only-of-type {\n",
       "        vertical-align: middle;\n",
       "    }\n",
       "\n",
       "    .dataframe tbody tr th {\n",
       "        vertical-align: top;\n",
       "    }\n",
       "\n",
       "    .dataframe thead th {\n",
       "        text-align: right;\n",
       "    }\n",
       "</style>\n",
       "<table border=\"1\" class=\"dataframe\">\n",
       "  <thead>\n",
       "    <tr style=\"text-align: right;\">\n",
       "      <th></th>\n",
       "      <th>prime_genre</th>\n",
       "      <th>year</th>\n",
       "      <th>averagerating</th>\n",
       "    </tr>\n",
       "  </thead>\n",
       "  <tbody>\n",
       "    <tr>\n",
       "      <th>59</th>\n",
       "      <td>Documentary</td>\n",
       "      <td>2010.0</td>\n",
       "      <td>7.3</td>\n",
       "    </tr>\n",
       "    <tr>\n",
       "      <th>32</th>\n",
       "      <td>Biography</td>\n",
       "      <td>2010.0</td>\n",
       "      <td>7.1</td>\n",
       "    </tr>\n",
       "    <tr>\n",
       "      <th>176</th>\n",
       "      <td>Sport</td>\n",
       "      <td>2010.0</td>\n",
       "      <td>7.1</td>\n",
       "    </tr>\n",
       "    <tr>\n",
       "      <th>115</th>\n",
       "      <td>Music</td>\n",
       "      <td>2010.0</td>\n",
       "      <td>7.1</td>\n",
       "    </tr>\n",
       "    <tr>\n",
       "      <th>23</th>\n",
       "      <td>Animation</td>\n",
       "      <td>2010.0</td>\n",
       "      <td>6.6</td>\n",
       "    </tr>\n",
       "  </tbody>\n",
       "</table>\n",
       "</div>"
      ],
      "text/plain": [
       "     prime_genre    year  averagerating\n",
       "59   Documentary  2010.0            7.3\n",
       "32     Biography  2010.0            7.1\n",
       "176        Sport  2010.0            7.1\n",
       "115        Music  2010.0            7.1\n",
       "23     Animation  2010.0            6.6"
      ]
     },
     "execution_count": 2436,
     "metadata": {},
     "output_type": "execute_result"
    }
   ],
   "source": [
    "frame_prime[(frame_prime[\"year\"] == 2010) & (frame_prime[\"year\"].notna())].sort_values(\"averagerating\", ascending=False)[0:5].round(1)"
   ]
  },
  {
   "cell_type": "code",
   "execution_count": 2473,
   "metadata": {},
   "outputs": [
    {
     "data": {
      "text/plain": [
       "[0, 2010, 2011, 2012, 2013, 2014, 2015, 2016, 2017, 2018]"
      ]
     },
     "execution_count": 2473,
     "metadata": {},
     "output_type": "execute_result"
    }
   ],
   "source": [
    "year_list"
   ]
  },
  {
   "cell_type": "code",
   "execution_count": null,
   "metadata": {},
   "outputs": [],
   "source": [
    "sns.set_style(\"whitegrid\")\n",
    "\n",
    "fig, axes = plt.subplots(nrows=3, ncols=3, figsize=(29,15))\n",
    "col = [\"mediumseagreen\",\"steelblue\",\"steelblue\",\"steelblue\",\"steelblue\"]\n",
    "\n",
    "for i in range(1,10):\n",
    "    row = (i-1)//3\n",
    "    col = i%3-1\n",
    "    ax = axes[row][col]\n",
    "    sns.barplot(x=\"averagerating\", y=\"prime_genre\",data=frame_prime[frame_prime[\"year\"] == year_list[i]].sort_values(\"averagerating\", ascending=False)[0:5].round(1), orient=\"h\", palette=col, ax=ax)\n",
    "\n",
    "for v, r in enumerate(frame_prime[frame_prime[\"year\"] == year_list[i]].sort_values(\"averagerating\", ascending=False)[0:5][\"averagerating\"].round(1)):\n",
    "        ax.text(r/2, v-.124, r, color=\"white\", fontweight=\"bold\", ha=\"center\")"
   ]
  },
  {
   "cell_type": "code",
   "execution_count": 2465,
   "metadata": {},
   "outputs": [],
   "source": [
    "for i in range(1,10):\n",
    "    row = (i-3)//3\n",
    "    col = i%3-1\n",
    "    ax = axes[row][col]\n",
    "    for v, r in enumerate(frame_prime[frame_prime[\"year\"] == year_list[i]].sort_values(\"averagerating\", ascending=False)[0:5][\"averagerating\"].round(1)):\n",
    "        ax.text(r/2, v-.124, r, color=\"white\", fontweight=\"bold\", ha=\"center\")"
   ]
  },
  {
   "cell_type": "code",
   "execution_count": null,
   "metadata": {},
   "outputs": [],
   "source": [
    "plt.style.use('seaborn')\n",
    "\n",
    "fig, axes = plt.subplots(nrows=3, ncols=3, figsize=(29,15))\n",
    "\n",
    "for i in range(1,10):\n",
    "    row = (i-1)//3\n",
    "    col = i%3-1\n",
    "    ax = axes[row][col]\n",
    "    x = frame_prime[frame_prime[\"year\"] == year_list[i]].sort_values(\"averagerating\", ascending=False)[0:5].round(1)\n",
    "    sns.barplot(x=x[\"prime_genre\"], y=x[\"averagerating\"], ax=axes)\n",
    "    ax.set_title(\"Top 5 Genre Ratings for {}\".format(year_list[i]))\n",
    "    ax.set_xticks(list(range(0,10)))\n",
    "    ax.set_ylabel(None)\n",
    "    ax.legend().remove()\n",
    "    \n",
    "for i in range(1,10):\n",
    "    row = (i-3)//3\n",
    "    col = i%3-1\n",
    "    ax = axes[row][col]\n",
    "    for v, r in enumerate(frame_prime[frame_prime[\"year\"] == year_list[i]].sort_values(\"averagerating\", ascending=False)[0:5][\"averagerating\"].round(1)):\n",
    "        ax.text(r/2, v-.124, r, color=\"white\", fontweight=\"bold\", ha=\"center\")"
   ]
  },
  {
   "cell_type": "code",
   "execution_count": 2491,
   "metadata": {},
   "outputs": [
    {
     "data": {
      "text/html": [
       "<div>\n",
       "<style scoped>\n",
       "    .dataframe tbody tr th:only-of-type {\n",
       "        vertical-align: middle;\n",
       "    }\n",
       "\n",
       "    .dataframe tbody tr th {\n",
       "        vertical-align: top;\n",
       "    }\n",
       "\n",
       "    .dataframe thead th {\n",
       "        text-align: right;\n",
       "    }\n",
       "</style>\n",
       "<table border=\"1\" class=\"dataframe\">\n",
       "  <thead>\n",
       "    <tr style=\"text-align: right;\">\n",
       "      <th></th>\n",
       "      <th>prime_genre</th>\n",
       "      <th>year</th>\n",
       "      <th>averagerating</th>\n",
       "    </tr>\n",
       "  </thead>\n",
       "  <tbody>\n",
       "    <tr>\n",
       "      <th>123</th>\n",
       "      <td>Music</td>\n",
       "      <td>2018.0</td>\n",
       "      <td>7.890909</td>\n",
       "    </tr>\n",
       "    <tr>\n",
       "      <th>157</th>\n",
       "      <td>Reality-TV</td>\n",
       "      <td>2018.0</td>\n",
       "      <td>7.800000</td>\n",
       "    </tr>\n",
       "    <tr>\n",
       "      <th>67</th>\n",
       "      <td>Documentary</td>\n",
       "      <td>2018.0</td>\n",
       "      <td>7.440434</td>\n",
       "    </tr>\n",
       "    <tr>\n",
       "      <th>40</th>\n",
       "      <td>Biography</td>\n",
       "      <td>2018.0</td>\n",
       "      <td>6.990865</td>\n",
       "    </tr>\n",
       "    <tr>\n",
       "      <th>184</th>\n",
       "      <td>Sport</td>\n",
       "      <td>2018.0</td>\n",
       "      <td>6.800000</td>\n",
       "    </tr>\n",
       "  </tbody>\n",
       "</table>\n",
       "</div>"
      ],
      "text/plain": [
       "     prime_genre    year  averagerating\n",
       "123        Music  2018.0       7.890909\n",
       "157   Reality-TV  2018.0       7.800000\n",
       "67   Documentary  2018.0       7.440434\n",
       "40     Biography  2018.0       6.990865\n",
       "184        Sport  2018.0       6.800000"
      ]
     },
     "execution_count": 2491,
     "metadata": {},
     "output_type": "execute_result"
    }
   ],
   "source": [
    "frame_prime[frame_prime[\"year\"] == year_list[i]].sort_values(\"averagerating\", ascending=False)[0:5]"
   ]
  },
  {
   "cell_type": "code",
   "execution_count": 2498,
   "metadata": {},
   "outputs": [
    {
     "data": {
      "text/plain": [
       "123    7.89\n",
       "157    7.80\n",
       "67     7.44\n",
       "40     6.99\n",
       "184    6.80\n",
       "Name: averagerating, dtype: float64"
      ]
     },
     "execution_count": 2498,
     "metadata": {},
     "output_type": "execute_result"
    }
   ],
   "source": [
    "frame_prime[frame_prime[\"year\"] == year_list[i]].sort_values(\"averagerating\", ascending=False)[0:5][\"averagerating\"].round(2)"
   ]
  },
  {
   "cell_type": "code",
   "execution_count": 2501,
   "metadata": {},
   "outputs": [
    {
     "name": "stdout",
     "output_type": "stream",
     "text": [
      "7.89\n",
      "7.8\n",
      "7.44\n",
      "6.99\n",
      "6.8\n"
     ]
    }
   ],
   "source": [
    " for v, r in enumerate(frame_prime[frame_prime[\"year\"] == year_list[i]].sort_values(\"averagerating\", ascending=False)[0:5][\"averagerating\"].round(2)):\n",
    "        print(r)"
   ]
  },
  {
   "cell_type": "code",
   "execution_count": 2533,
   "metadata": {},
   "outputs": [
    {
     "data": {
      "text/html": [
       "<div>\n",
       "<style scoped>\n",
       "    .dataframe tbody tr th:only-of-type {\n",
       "        vertical-align: middle;\n",
       "    }\n",
       "\n",
       "    .dataframe tbody tr th {\n",
       "        vertical-align: top;\n",
       "    }\n",
       "\n",
       "    .dataframe thead th {\n",
       "        text-align: right;\n",
       "    }\n",
       "</style>\n",
       "<table border=\"1\" class=\"dataframe\">\n",
       "  <thead>\n",
       "    <tr style=\"text-align: right;\">\n",
       "      <th></th>\n",
       "      <th>prime_genre</th>\n",
       "      <th>year</th>\n",
       "      <th>averagerating</th>\n",
       "    </tr>\n",
       "  </thead>\n",
       "  <tbody>\n",
       "    <tr>\n",
       "      <th>59</th>\n",
       "      <td>Documentary</td>\n",
       "      <td>2010.0</td>\n",
       "      <td>7.265221</td>\n",
       "    </tr>\n",
       "    <tr>\n",
       "      <th>32</th>\n",
       "      <td>Biography</td>\n",
       "      <td>2010.0</td>\n",
       "      <td>7.125497</td>\n",
       "    </tr>\n",
       "    <tr>\n",
       "      <th>176</th>\n",
       "      <td>Sport</td>\n",
       "      <td>2010.0</td>\n",
       "      <td>7.090909</td>\n",
       "    </tr>\n",
       "    <tr>\n",
       "      <th>115</th>\n",
       "      <td>Music</td>\n",
       "      <td>2010.0</td>\n",
       "      <td>7.068182</td>\n",
       "    </tr>\n",
       "    <tr>\n",
       "      <th>23</th>\n",
       "      <td>Animation</td>\n",
       "      <td>2010.0</td>\n",
       "      <td>6.634146</td>\n",
       "    </tr>\n",
       "  </tbody>\n",
       "</table>\n",
       "</div>"
      ],
      "text/plain": [
       "     prime_genre    year  averagerating\n",
       "59   Documentary  2010.0       7.265221\n",
       "32     Biography  2010.0       7.125497\n",
       "176        Sport  2010.0       7.090909\n",
       "115        Music  2010.0       7.068182\n",
       "23     Animation  2010.0       6.634146"
      ]
     },
     "execution_count": 2533,
     "metadata": {},
     "output_type": "execute_result"
    }
   ],
   "source": [
    "frame_prime[(frame_prime[\"year\"] == 2010) & (frame_prime[\"averagerating\"].notna())].sort_values(\"averagerating\", ascending=False)[0:5]"
   ]
  },
  {
   "cell_type": "code",
   "execution_count": 2542,
   "metadata": {},
   "outputs": [],
   "source": [
    "frame_prime.sort_values([\"year\",\"averagerating\"], ascending=False, inplace=True)"
   ]
  },
  {
   "cell_type": "code",
   "execution_count": 2547,
   "metadata": {},
   "outputs": [
    {
     "data": {
      "text/html": [
       "<div>\n",
       "<style scoped>\n",
       "    .dataframe tbody tr th:only-of-type {\n",
       "        vertical-align: middle;\n",
       "    }\n",
       "\n",
       "    .dataframe tbody tr th {\n",
       "        vertical-align: top;\n",
       "    }\n",
       "\n",
       "    .dataframe thead th {\n",
       "        text-align: right;\n",
       "    }\n",
       "</style>\n",
       "<table border=\"1\" class=\"dataframe\">\n",
       "  <thead>\n",
       "    <tr style=\"text-align: right;\">\n",
       "      <th></th>\n",
       "      <th>prime_genre</th>\n",
       "      <th>year</th>\n",
       "      <th>averagerating</th>\n",
       "    </tr>\n",
       "  </thead>\n",
       "  <tbody>\n",
       "    <tr>\n",
       "      <th>59</th>\n",
       "      <td>Documentary</td>\n",
       "      <td>2010.0</td>\n",
       "      <td>7.265221</td>\n",
       "    </tr>\n",
       "    <tr>\n",
       "      <th>32</th>\n",
       "      <td>Biography</td>\n",
       "      <td>2010.0</td>\n",
       "      <td>7.125497</td>\n",
       "    </tr>\n",
       "    <tr>\n",
       "      <th>176</th>\n",
       "      <td>Sport</td>\n",
       "      <td>2010.0</td>\n",
       "      <td>7.090909</td>\n",
       "    </tr>\n",
       "    <tr>\n",
       "      <th>115</th>\n",
       "      <td>Music</td>\n",
       "      <td>2010.0</td>\n",
       "      <td>7.068182</td>\n",
       "    </tr>\n",
       "    <tr>\n",
       "      <th>23</th>\n",
       "      <td>Animation</td>\n",
       "      <td>2010.0</td>\n",
       "      <td>6.634146</td>\n",
       "    </tr>\n",
       "  </tbody>\n",
       "</table>\n",
       "</div>"
      ],
      "text/plain": [
       "     prime_genre    year  averagerating\n",
       "59   Documentary  2010.0       7.265221\n",
       "32     Biography  2010.0       7.125497\n",
       "176        Sport  2010.0       7.090909\n",
       "115        Music  2010.0       7.068182\n",
       "23     Animation  2010.0       6.634146"
      ]
     },
     "execution_count": 2547,
     "metadata": {},
     "output_type": "execute_result"
    }
   ],
   "source": [
    "frame_prime[frame_prime[\"year\"]==2010][0:5]"
   ]
  },
  {
   "cell_type": "code",
   "execution_count": 2561,
   "metadata": {},
   "outputs": [
    {
     "data": {
      "text/plain": [
       "[0, 2010, 2011, 2012, 2013, 2014, 2015, 2016, 2017, 2018]"
      ]
     },
     "execution_count": 2561,
     "metadata": {},
     "output_type": "execute_result"
    }
   ],
   "source": [
    "year_list"
   ]
  },
  {
   "cell_type": "code",
   "execution_count": 2565,
   "metadata": {},
   "outputs": [
    {
     "data": {
      "text/plain": [
       "59     7.265221\n",
       "32     7.125497\n",
       "176    7.090909\n",
       "115    7.068182\n",
       "23     6.634146\n",
       "Name: averagerating, dtype: float64"
      ]
     },
     "execution_count": 2565,
     "metadata": {},
     "output_type": "execute_result"
    }
   ],
   "source": [
    "frame_prime[frame_prime[\"year\"] == year_list[1]][0:5][\"averagerating\"]"
   ]
  },
  {
   "cell_type": "code",
   "execution_count": 2566,
   "metadata": {},
   "outputs": [
    {
     "data": {
      "image/png": "[encoded data removed]",
      "text/plain": [
       "<Figure size 2088x1080 with 9 Axes>"
      ]
     },
     "metadata": {},
     "output_type": "display_data"
    }
   ],
   "source": [
    "plt.style.use('seaborn')\n",
    "\n",
    "fig, axes = plt.subplots(nrows=3, ncols=3, figsize=(29,15))\n",
    "\n",
    "for i in range(1,10):\n",
    "    row = (i-1)//3\n",
    "    col = i%3-1\n",
    "    ax = axes[row][col]\n",
    "    frame_prime[frame_prime[\"year\"] == year_list[i]][0:5][\"averagerating\"].plot(kind=\"barh\", x=\"prime_genre\",y=\"averagerating\", ax=ax, width=.6)\n",
    "    ax.set_title(\"Top 5 Genre Ratings for {}\".format(year_list[i]))\n",
    "    ax.set_xticks(list(range(0,10)))\n",
    "    ax.set_ylabel(None)\n",
    "    ax.legend().remove()\n",
    "    \n",
    "for i in range(1,10):\n",
    "    row = (i-3)//3\n",
    "    col = i%3-1\n",
    "    ax = axes[row][col]\n",
    "    for v, r in enumerate(frame_prime[frame_prime[\"year\"] == year_list[i]][0:5][\"averagerating\"].round(2)):\n",
    "        ax.text(r/2, v-.124, r, color=\"white\", fontweight=\"bold\", ha=\"center\")\n",
    "        "
   ]
  },
  {
   "cell_type": "markdown",
   "metadata": {},
   "source": [
    "<div style=\"border:0.2px; border-style:solid; border-color:#A9A9A9; padding: 0.5em;font-size:14px;border-width:medium;\">\n",
    "<p>  \n",
    "\n",
    "</div>"
   ]
  },
  {
   "cell_type": "code",
   "execution_count": 2292,
   "metadata": {},
   "outputs": [
    {
     "data": {
      "text/html": [
       "<div>\n",
       "<style scoped>\n",
       "    .dataframe tbody tr th:only-of-type {\n",
       "        vertical-align: middle;\n",
       "    }\n",
       "\n",
       "    .dataframe tbody tr th {\n",
       "        vertical-align: top;\n",
       "    }\n",
       "\n",
       "    .dataframe thead th {\n",
       "        text-align: right;\n",
       "    }\n",
       "</style>\n",
       "<table border=\"1\" class=\"dataframe\">\n",
       "  <thead>\n",
       "    <tr style=\"text-align: right;\">\n",
       "      <th></th>\n",
       "      <th>title</th>\n",
       "      <th>original_title</th>\n",
       "      <th>year</th>\n",
       "      <th>runtime_minutes</th>\n",
       "      <th>genres</th>\n",
       "      <th>averagerating</th>\n",
       "      <th>numvotes</th>\n",
       "      <th>id</th>\n",
       "      <th>release_date</th>\n",
       "      <th>production_budget</th>\n",
       "      <th>domestic_gross</th>\n",
       "      <th>worldwide_gross</th>\n",
       "      <th>hours</th>\n",
       "      <th>prime_genre</th>\n",
       "    </tr>\n",
       "  </thead>\n",
       "  <tbody>\n",
       "    <tr>\n",
       "      <th>0</th>\n",
       "      <td>Sunghursh</td>\n",
       "      <td>Sunghursh</td>\n",
       "      <td>2013</td>\n",
       "      <td>175.0</td>\n",
       "      <td>Action,Crime,Drama</td>\n",
       "      <td>7.0</td>\n",
       "      <td>77.0</td>\n",
       "      <td>NaN</td>\n",
       "      <td>NaN</td>\n",
       "      <td>NaN</td>\n",
       "      <td>NaN</td>\n",
       "      <td>NaN</td>\n",
       "      <td>2.9</td>\n",
       "      <td>Action</td>\n",
       "    </tr>\n",
       "    <tr>\n",
       "      <th>1</th>\n",
       "      <td>One Day Before the Rainy Season</td>\n",
       "      <td>Ashad Ka Ek Din</td>\n",
       "      <td>2019</td>\n",
       "      <td>114.0</td>\n",
       "      <td>Biography,Drama</td>\n",
       "      <td>7.2</td>\n",
       "      <td>43.0</td>\n",
       "      <td>NaN</td>\n",
       "      <td>NaN</td>\n",
       "      <td>NaN</td>\n",
       "      <td>NaN</td>\n",
       "      <td>NaN</td>\n",
       "      <td>1.9</td>\n",
       "      <td>Biography</td>\n",
       "    </tr>\n",
       "    <tr>\n",
       "      <th>2</th>\n",
       "      <td>The Other Side of the Wind</td>\n",
       "      <td>The Other Side of the Wind</td>\n",
       "      <td>2018</td>\n",
       "      <td>122.0</td>\n",
       "      <td>Drama</td>\n",
       "      <td>6.9</td>\n",
       "      <td>4517.0</td>\n",
       "      <td>NaN</td>\n",
       "      <td>NaN</td>\n",
       "      <td>NaN</td>\n",
       "      <td>NaN</td>\n",
       "      <td>NaN</td>\n",
       "      <td>2.0</td>\n",
       "      <td>Drama</td>\n",
       "    </tr>\n",
       "    <tr>\n",
       "      <th>3</th>\n",
       "      <td>Sabse Bada Sukh</td>\n",
       "      <td>Sabse Bada Sukh</td>\n",
       "      <td>2018</td>\n",
       "      <td>NaN</td>\n",
       "      <td>Comedy,Drama</td>\n",
       "      <td>6.1</td>\n",
       "      <td>13.0</td>\n",
       "      <td>NaN</td>\n",
       "      <td>NaN</td>\n",
       "      <td>NaN</td>\n",
       "      <td>NaN</td>\n",
       "      <td>NaN</td>\n",
       "      <td>NaN</td>\n",
       "      <td>Comedy</td>\n",
       "    </tr>\n",
       "    <tr>\n",
       "      <th>4</th>\n",
       "      <td>The Wandering Soap Opera</td>\n",
       "      <td>La Telenovela Errante</td>\n",
       "      <td>2017</td>\n",
       "      <td>80.0</td>\n",
       "      <td>Comedy,Drama,Fantasy</td>\n",
       "      <td>6.5</td>\n",
       "      <td>119.0</td>\n",
       "      <td>NaN</td>\n",
       "      <td>NaN</td>\n",
       "      <td>NaN</td>\n",
       "      <td>NaN</td>\n",
       "      <td>NaN</td>\n",
       "      <td>1.3</td>\n",
       "      <td>Comedy</td>\n",
       "    </tr>\n",
       "  </tbody>\n",
       "</table>\n",
       "</div>"
      ],
      "text/plain": [
       "                             title              original_title  year  \\\n",
       "0                        Sunghursh                   Sunghursh  2013   \n",
       "1  One Day Before the Rainy Season             Ashad Ka Ek Din  2019   \n",
       "2       The Other Side of the Wind  The Other Side of the Wind  2018   \n",
       "3                  Sabse Bada Sukh             Sabse Bada Sukh  2018   \n",
       "4         The Wandering Soap Opera       La Telenovela Errante  2017   \n",
       "\n",
       "   runtime_minutes                genres  averagerating  numvotes  id  \\\n",
       "0            175.0    Action,Crime,Drama            7.0      77.0 NaN   \n",
       "1            114.0       Biography,Drama            7.2      43.0 NaN   \n",
       "2            122.0                 Drama            6.9    4517.0 NaN   \n",
       "3              NaN          Comedy,Drama            6.1      13.0 NaN   \n",
       "4             80.0  Comedy,Drama,Fantasy            6.5     119.0 NaN   \n",
       "\n",
       "  release_date  production_budget  domestic_gross  worldwide_gross  hours  \\\n",
       "0          NaN                NaN             NaN              NaN    2.9   \n",
       "1          NaN                NaN             NaN              NaN    1.9   \n",
       "2          NaN                NaN             NaN              NaN    2.0   \n",
       "3          NaN                NaN             NaN              NaN    NaN   \n",
       "4          NaN                NaN             NaN              NaN    1.3   \n",
       "\n",
       "  prime_genre  \n",
       "0      Action  \n",
       "1   Biography  \n",
       "2       Drama  \n",
       "3      Comedy  \n",
       "4      Comedy  "
      ]
     },
     "execution_count": 2292,
     "metadata": {},
     "output_type": "execute_result"
    }
   ],
   "source": [
    "df_movie.head()"
   ]
  },
  {
   "cell_type": "code",
   "execution_count": null,
   "metadata": {},
   "outputs": [],
   "source": [
    "df_movie.groupby()"
   ]
  }
 ],
 "metadata": {
  "kernelspec": {
   "display_name": "Python 3",
   "language": "python",
   "name": "python3"
  },
  "language_info": {
   "codemirror_mode": {
    "name": "ipython",
    "version": 3
   },
   "file_extension": ".py",
   "mimetype": "text/x-python",
   "name": "python",
   "nbconvert_exporter": "python",
   "pygments_lexer": "ipython3",
   "version": "3.7.3"
  }
 },
 "nbformat": 4,
 "nbformat_minor": 4
}
